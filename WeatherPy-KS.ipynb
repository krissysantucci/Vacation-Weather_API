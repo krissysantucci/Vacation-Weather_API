{
 "cells": [
  {
   "cell_type": "markdown",
   "metadata": {},
   "source": [
    "# WeatherPy\n",
    "----\n",
    "\n",
    "#### Note\n",
    "* Instructions have been included for each segment. You do not have to follow them exactly, but they are included to help you think through the steps."
   ]
  },
  {
   "cell_type": "code",
   "execution_count": 28,
   "metadata": {
    "scrolled": true
   },
   "outputs": [],
   "source": [
    "# Dependencies and Setup\n",
    "import matplotlib.pyplot as plt\n",
    "import pandas as pd\n",
    "import numpy as np\n",
    "import requests\n",
    "import time\n",
    "from scipy.stats import linregress\n",
    "\n",
    "\n",
    "# Import API key\n",
    "from api_keys import weather_api_key\n",
    "\n",
    "# Incorporated citipy to determine city based on latitude and longitude\n",
    "from citipy import citipy\n",
    "\n",
    "# Output File (CSV)\n",
    "#output_data_file = \"output_data/cities.csv\"\n",
    "\n",
    "# Range of latitudes and longitudes\n",
    "lat_range = (-90, 90)\n",
    "lng_range = (-180, 180)\n",
    "\n",
    "url = \"http://api.openweathermap.org/data/2.5/weather?\"\n",
    "units = \"imperial\"\n",
    "query_url = f\"{url}appid={weather_api_key}&units={units}&q=\""
   ]
  },
  {
   "cell_type": "markdown",
   "metadata": {},
   "source": [
    "## Generate Cities List"
   ]
  },
  {
   "cell_type": "code",
   "execution_count": 49,
   "metadata": {},
   "outputs": [
    {
     "data": {
      "text/plain": [
       "594"
      ]
     },
     "execution_count": 49,
     "metadata": {},
     "output_type": "execute_result"
    }
   ],
   "source": [
    "# List for holding lat_lngs and cities\n",
    "lat_lngs = []\n",
    "cities = []\n",
    "\n",
    "# Create a set of random lat and lng combinations\n",
    "lats = np.random.uniform(low=-90.000, high=90.000, size=1500)\n",
    "lngs = np.random.uniform(low=-180.000, high=180.000, size=1500)\n",
    "lat_lngs = zip(lats, lngs)\n",
    "\n",
    "# Identify nearest city for each lat, lng combination\n",
    "for lat_lng in lat_lngs:\n",
    "    city = citipy.nearest_city(lat_lng[0], lat_lng[1]).city_name\n",
    "    \n",
    "    # If the city is unique, then add it to a our cities list\n",
    "    if city not in cities:\n",
    "        cities.append(city)\n",
    "\n",
    "# Print the city count to confirm sufficient count\n",
    "len(cities)"
   ]
  },
  {
   "cell_type": "markdown",
   "metadata": {},
   "source": [
    "### Perform API Calls\n",
    "* Perform a weather check on each city using a series of successive API calls.\n",
    "* Include a print log of each city as it'sbeing processed (with the city number and city name).\n"
   ]
  },
  {
   "cell_type": "code",
   "execution_count": 29,
   "metadata": {},
   "outputs": [
    {
     "name": "stdout",
     "output_type": "stream",
     "text": [
      "processing City ushuaia CityID: 3833367\n",
      "processing City arraial do cabo CityID: 3471451\n",
      "processing City jamestown CityID: 5122534\n",
      "processing City hobart CityID: 2163355\n",
      "processing City dikson CityID: 1507390\n",
      "processing City birjand CityID: 140463\n",
      "processing City kitimat CityID: 5993072\n",
      "processing City szentes CityID: 715338\n",
      "processing City tiksi CityID: 2015306\n",
      "processing City kholm CityID: 549786\n",
      "processing City bluff CityID: 2206939\n",
      "processing City tiarei CityID: 4033356\n",
      "processing City mataura CityID: 6201424\n",
      "processing City rikitea CityID: 4030556\n",
      "processing City hermanus CityID: 3366880\n",
      "processing City vostok CityID: 2013279\n",
      "processing City khoy CityID: 126972\n",
      "processing City mayo CityID: 4362001\n",
      "processing City tanete CityID: 1629965\n",
      "processing City mehriz CityID: 124274\n",
      "processing City arlit CityID: 2447513\n",
      "processing City albany CityID: 5106841\n",
      "processing City santa cruz CityID: 3904906\n",
      "processing City college CityID: 5859699\n",
      "processing City ancud CityID: 3899695\n",
      "processing City codrington CityID: 2171099\n",
      "processing City krasnoarmeysk CityID: 542464\n",
      "processing City namatanai CityID: 2090021\n",
      "processing City castro CityID: 3466704\n",
      "processing City tuatapere CityID: 2180815\n",
      "processing City cabo san lucas CityID: 3985710\n",
      "processing City puerto ayora CityID: 3652764\n",
      "processing City qingyuan CityID: 1797945\n",
      "processing City adrar CityID: 2381972\n",
      "processing City busselton CityID: 2075265\n",
      "processing City ignalina CityID: 598998\n",
      "processing City port alfred CityID: 964432\n",
      "processing City port elizabeth CityID: 964420\n",
      "processing City leningradskiy CityID: 2123814\n",
      "processing City skagen CityID: 2613939\n",
      "processing City kapaa CityID: 5848280\n",
      "processing City carnarvon CityID: 2074865\n",
      "processing City haimen CityID: 1809062\n",
      "processing City ponta do sol CityID: 2264557\n",
      "processing City new norfolk CityID: 2155415\n",
      "processing City chum phae CityID: 1611026\n",
      "processing City comodoro rivadavia CityID: 3860443\n",
      "processing City takoradi CityID: 2294915\n",
      "processing City port hedland CityID: 2063042\n",
      "processing City punta arenas CityID: 3874787\n",
      "processing City chokurdakh CityID: 2126123\n",
      "processing City kaseda CityID: 1859964\n",
      "processing City san cristobal CityID: 3628473\n",
      "processing City hokitika CityID: 2206894\n",
      "processing City taoudenni CityID: 2450173\n",
      "processing City dingle CityID: 1714733\n",
      "processing City te anau CityID: 2181625\n",
      "processing City fortuna CityID: 5563839\n",
      "processing City khakhea CityID: 933649\n",
      "processing City kokoda CityID: 2093691\n",
      "processing City palm coast CityID: 4167538\n",
      "processing City georgetown CityID: 1735106\n",
      "processing City lebu CityID: 3883457\n",
      "processing City lavrentiya CityID: 4031637\n",
      "processing City san patricio CityID: 3985168\n",
      "processing City saskylakh CityID: 2017155\n",
      "processing City berlevag CityID: 780687\n",
      "processing City beringovskiy CityID: 2126710\n",
      "processing City vao CityID: 2137773\n",
      "processing City tadine CityID: 2138285\n",
      "processing City stornoway CityID: 2636790\n",
      "processing City butaritari CityID: 2110227\n",
      "processing City provideniya CityID: 4031574\n",
      "processing City armidale CityID: 2177671\n",
      "processing City kodiak CityID: 5866583\n",
      "processing City atuona CityID: 4020109\n",
      "processing City inuvik CityID: 5983607\n",
      "processing City thompson CityID: 6165406\n",
      "processing City zyryanka CityID: 2119283\n",
      "processing City nikolskoye CityID: 546105\n",
      "processing City lahaina CityID: 5849996\n",
      "processing City luderitz CityID: 3355672\n",
      "processing City avarua CityID: 4035715\n",
      "processing City winsum CityID: 2744337\n",
      "processing City bredasdorp CityID: 1015776\n",
      "processing City barrow CityID: 5880054\n",
      "processing City regenstauf CityID: 2849476\n",
      "processing City carutapera CityID: 3402648\n",
      "processing City sisimiut CityID: 3419842\n",
      "processing City digby CityID: 5939236\n",
      "processing City puerto escondido CityID: 3520994\n",
      "processing City carman CityID: 5917275\n",
      "processing City lompoc CityID: 5367788\n",
      "processing City valenca CityID: 3445597\n",
      "processing City kysyl-syr CityID: 2021017\n",
      "processing City asyut CityID: 359783\n",
      "processing City kavieng CityID: 2094342\n",
      "processing City iqaluit CityID: 5983720\n",
      "processing City bandar-e lengeh CityID: 141665\n",
      "processing City puerto asis CityID: 3671549\n",
      "processing City singaraja CityID: 1626932\n",
      "processing City vallenar CityID: 3868633\n",
      "processing City tandalti CityID: 366426\n",
      "processing City rodrigues alves CityID: 3665210\n",
      "processing City batagay-alyta CityID: 2027042\n",
      "processing City roma CityID: 5134295\n",
      "processing City smithfield CityID: 5224949\n",
      "processing City matara CityID: 1235846\n",
      "processing City maloy CityID: 3146487\n",
      "processing City epernay CityID: 3020062\n",
      "processing City haines junction CityID: 5969025\n",
      "processing City gasa CityID: 281133\n",
      "processing City celestun CityID: 3531368\n",
      "processing City salalah CityID: 286621\n",
      "processing City sao gabriel da cachoeira CityID: 3662342\n",
      "processing City port lincoln CityID: 2063036\n",
      "processing City vaini CityID: 4032243\n",
      "processing City cape town CityID: 3369157\n",
      "processing City batagay CityID: 2027044\n",
      "processing City cocentaina CityID: 2519382\n",
      "processing City krasnoborsk CityID: 542423\n",
      "processing City yellowknife CityID: 6185377\n",
      "processing City bor CityID: 572665\n",
      "processing City hovd CityID: 1516048\n",
      "processing City yerofey pavlovich CityID: 2012938\n",
      "processing City minbu CityID: 1309289\n",
      "processing City tasiilaq CityID: 3424607\n",
      "processing City vardo CityID: 777019\n",
      "processing City quatre cocos CityID: 1106643\n",
      "processing City dunedin CityID: 2191562\n",
      "processing City sioux lookout CityID: 6148373\n",
      "processing City paamiut CityID: 3421193\n",
      "processing City mar del plata CityID: 3430863\n",
      "processing City ballina CityID: 2177069\n",
      "processing City torbay CityID: 6167817\n",
      "processing City rio gallegos CityID: 3838859\n",
      "processing City naryan-mar CityID: 523392\n",
      "processing City saint-philippe CityID: 935215\n",
      "processing City tapes CityID: 3446880\n",
      "processing City sitka CityID: 5557293\n",
      "processing City hay river CityID: 5972762\n",
      "processing City marechal candido rondon CityID: 3457772\n",
      "processing City zamora CityID: 3649959\n",
      "processing City shimoda CityID: 1852357\n",
      "processing City otradnoye CityID: 513898\n",
      "processing City polunochnoye CityID: 1494482\n",
      "processing City chuy CityID: 3443061\n",
      "processing City bethel CityID: 5282297\n",
      "processing City yarada CityID: 1252783\n",
      "processing City tuktoyaktuk CityID: 6170031\n",
      "processing City pacific grove CityID: 5380437\n",
      "processing City anadyr CityID: 2127202\n",
      "processing City orapa CityID: 933186\n",
      "processing City grand gaube CityID: 934479\n",
      "processing City tautira CityID: 4033557\n",
      "processing City meulaboh CityID: 1214488\n",
      "processing City half moon bay CityID: 5354943\n",
      "processing City bhuj CityID: 1275812\n",
      "processing City lashio CityID: 1314759\n",
      "processing City nayoro CityID: 2128983\n",
      "processing City gondar CityID: 336014\n",
      "processing City tilichiki CityID: 2120591\n",
      "processing City cerro largo CityID: 3466395\n",
      "processing City safaga CityID: 358620\n",
      "processing City pisco CityID: 3932145\n",
      "processing City omidiyeh CityID: 121861\n",
      "processing City puri CityID: 1259184\n",
      "processing City liverpool CityID: 2644210\n",
      "processing City senneterre CityID: 6144195\n",
      "processing City kieta CityID: 2094027\n",
      "processing City tiquisio CityID: 3792380\n",
      "processing City vila franca do campo CityID: 3372472\n",
      "processing City longyearbyen CityID: 2729907\n",
      "processing City cidreira CityID: 3466165\n",
      "processing City svetlogorsk CityID: 10722858\n",
      "processing City severo-kurilsk CityID: 2121385\n",
      "processing City guanica CityID: 4565090\n",
      "processing City eyl CityID: 60019\n",
      "processing City rundu CityID: 3353383\n",
      "processing City pevek CityID: 2122090\n",
      "processing City hithadhoo CityID: 1282256\n",
      "processing City aklavik CityID: 5882953\n",
      "processing City qui nhon CityID: 1568574\n",
      "processing City soto la marina CityID: 3516522\n",
      "processing City eyrarbakki CityID: 3413604\n",
      "processing City varkkallai CityID: 1253392\n",
      "processing City rurrenabaque CityID: 3906209\n",
      "processing City balakhta CityID: 1510998\n",
      "processing City kampong cham CityID: 1831173\n",
      "processing City morondava CityID: 1058381\n",
      "processing City klaksvik CityID: 2618795\n",
      "processing City hammerfest CityID: 779683\n",
      "processing City ballarpur CityID: 1277557\n",
      "processing City porto belo CityID: 3452900\n",
      "processing City koumac CityID: 2140558\n",
      "processing City henties bay CityID: 3356832\n",
      "processing City bani CityID: 3512067\n",
      "processing City marzuq CityID: 72181\n",
      "processing City rock sound CityID: 3571592\n"
     ]
    },
    {
     "name": "stdout",
     "output_type": "stream",
     "text": [
      "processing City encarnacion CityID: 3438735\n",
      "processing City yar-sale CityID: 1486321\n",
      "processing City ribeira grande CityID: 3372707\n",
      "processing City hilo CityID: 5855927\n",
      "processing City norman wells CityID: 6089245\n",
      "processing City ewa beach CityID: 5855051\n",
      "processing City burnie CityID: 2173125\n",
      "processing City koshurnikovo CityID: 1502389\n",
      "processing City sao filipe CityID: 3374210\n",
      "processing City nagato CityID: 1899102\n",
      "processing City saint-augustin CityID: 6137462\n",
      "processing City mahebourg CityID: 934322\n",
      "processing City pochutla CityID: 3517970\n",
      "processing City atar CityID: 2381334\n",
      "processing City khatanga CityID: 2022572\n",
      "processing City east london CityID: 1006984\n",
      "processing City malanje CityID: 2239862\n",
      "processing City tsiroanomandidy CityID: 1054463\n",
      "processing City nanortalik CityID: 3421765\n",
      "processing City swidnik CityID: 757692\n",
      "processing City mbandaka CityID: 2312895\n",
      "processing City souillac CityID: 933995\n",
      "processing City barra da estiva CityID: 3470744\n",
      "processing City nha trang CityID: 1572151\n",
      "processing City maceio CityID: 3395981\n",
      "processing City cherskiy CityID: 2126199\n",
      "processing City teahupoo CityID: 4033543\n",
      "processing City makinsk CityID: 1521230\n",
      "processing City richards bay CityID: 962367\n",
      "processing City hasaki CityID: 2112802\n",
      "processing City clyde river CityID: 5924351\n",
      "processing City kjopsvik CityID: 3150002\n",
      "processing City kodinsk CityID: 1503037\n",
      "processing City hamilton CityID: 4513583\n",
      "processing City ixtapa CityID: 4004293\n",
      "processing City tiznit CityID: 2527087\n",
      "processing City namibe CityID: 3347019\n",
      "processing City emba CityID: 609924\n",
      "processing City chilliwack CityID: 5921357\n",
      "processing City asau CityID: 686090\n",
      "processing City nong khae CityID: 1608239\n",
      "processing City mount isa CityID: 2065594\n",
      "processing City christchurch CityID: 2192362\n",
      "processing City nuevitas CityID: 3545841\n",
      "processing City thinadhoo CityID: 1337610\n",
      "processing City huilong CityID: 1806840\n",
      "processing City puerto ayacucho CityID: 3629710\n",
      "processing City coquimbo CityID: 3893629\n",
      "processing City upernavik CityID: 3418910\n",
      "processing City havelock CityID: 4470244\n",
      "processing City riyadh CityID: 108410\n",
      "processing City mazagao CityID: 3395042\n",
      "processing City masaurhi CityID: 1269557\n",
      "processing City cap-aux-meules CityID: 5915327\n",
      "processing City launceston CityID: 2160517\n",
      "processing City komsomolskiy CityID: 1513491\n",
      "processing City ponta delgada CityID: 3372783\n",
      "processing City tam ky CityID: 1567148\n",
      "processing City puerto del rosario CityID: 2512186\n",
      "processing City broome CityID: 5110365\n",
      "processing City olinda CityID: 3393536\n",
      "processing City soyo CityID: 2236967\n",
      "processing City santa fe CityID: 3836277\n",
      "processing City kewanee CityID: 4898433\n",
      "processing City grafton CityID: 4938048\n",
      "processing City guangyuan CityID: 1806466\n",
      "processing City qaanaaq CityID: 3831208\n",
      "processing City vanavara CityID: 2013727\n",
      "processing City makakilo city CityID: 5850554\n",
      "processing City port-gentil CityID: 2396518\n",
      "processing City kavaratti CityID: 1267390\n",
      "processing City emerald CityID: 2167426\n",
      "processing City aripuana CityID: 3665202\n",
      "processing City fort nelson CityID: 5955902\n",
      "processing City antalaha CityID: 1071296\n",
      "processing City paracuru CityID: 3393115\n",
      "processing City necocli CityID: 3673974\n",
      "processing City lensk CityID: 2020838\n",
      "processing City bouna CityID: 2290849\n",
      "processing City nenjiang CityID: 2035601\n",
      "processing City kaduqli CityID: 373141\n",
      "processing City winneba CityID: 2294034\n",
      "processing City agirish CityID: 1512101\n",
      "processing City tecolutilla CityID: 3516149\n",
      "processing City alofi CityID: 4036284\n",
      "processing City ishigaki CityID: 1861416\n",
      "processing City akyab CityID: 1295765\n",
      "processing City bedele CityID: 342567\n",
      "processing City sabang CityID: 1214026\n",
      "processing City yulara CityID: 6355222\n",
      "processing City gayny CityID: 561698\n",
      "processing City deputatskiy CityID: 2028164\n",
      "processing City faanui CityID: 4034551\n",
      "processing City kaspiysk CityID: 551847\n",
      "processing City mangan CityID: 1263776\n",
      "processing City berezovyy CityID: 2026786\n",
      "processing City odessa CityID: 698740\n",
      "processing City udachnyy CityID: 2014624\n",
      "processing City mogadishu CityID: 53654\n",
      "processing City talnakh CityID: 1490256\n",
      "processing City nizhniy tsasuchey CityID: 2019118\n",
      "processing City bansang CityID: 2413866\n",
      "processing City acapulco CityID: 3533462\n",
      "processing City nhamunda CityID: 3393929\n",
      "processing City victoria CityID: 1819729\n",
      "processing City ekhabi CityID: 2122614\n",
      "processing City la cruz CityID: 4002745\n",
      "processing City airai CityID: 1651810\n",
      "processing City maracacume CityID: 3395497\n",
      "processing City carupano CityID: 3646382\n",
      "processing City port blair CityID: 1259385\n",
      "processing City behbahan CityID: 140951\n",
      "processing City luba CityID: 2309528\n",
      "processing City ilulissat CityID: 3423146\n",
      "processing City kenai CityID: 5866063\n",
      "processing City saurimo CityID: 145531\n",
      "processing City solnechnyy CityID: 2016307\n",
      "processing City touros CityID: 3386213\n",
      "processing City olafsvik CityID: 3414079\n",
      "processing City ahipara CityID: 2194098\n",
      "processing City phan thiet CityID: 1571058\n",
      "processing City whitehorse CityID: 6180550\n",
      "processing City liberal CityID: 5445820\n",
      "processing City lakes entrance CityID: 2160735\n",
      "processing City grindavik CityID: 3416888\n",
      "processing City port shepstone CityID: 964406\n",
      "processing City pimentel CityID: 3693584\n",
      "processing City bac lieu CityID: 1591474\n",
      "processing City lorengau CityID: 2092164\n",
      "processing City dhanwar CityID: 1272902\n",
      "processing City bilecik CityID: 321122\n",
      "processing City petropavlovsk-kamchatskiy CityID: 2122104\n",
      "processing City sao joao da barra CityID: 3448903\n",
      "processing City bengkulu CityID: 1649150\n",
      "processing City srednekolymsk CityID: 2121025\n",
      "processing City tura CityID: 1254046\n",
      "processing City lloydminster CityID: 6058024\n",
      "processing City del rio CityID: 5520076\n",
      "processing City ketchikan CityID: 5554428\n",
      "processing City saldanha CityID: 3361934\n",
      "processing City port hardy CityID: 6111862\n",
      "processing City barcelos CityID: 2742416\n",
      "processing City vacaria CityID: 3445630\n",
      "processing City clarksville CityID: 4613868\n",
      "processing City katsuura CityID: 2112309\n",
      "processing City sinop CityID: 739598\n",
      "processing City wilmington CityID: 4499379\n",
      "processing City lagoa CityID: 3372964\n",
      "processing City homestead CityID: 4159050\n",
      "processing City taywarah CityID: 1122464\n",
      "processing City sorland CityID: 3137469\n",
      "processing City saint-louis CityID: 2246451\n",
      "processing City bonavista CityID: 5905393\n",
      "processing City nyurba CityID: 2018735\n",
      "processing City amapa CityID: 3407762\n",
      "processing City phek CityID: 1259784\n",
      "processing City portland CityID: 5746545\n",
      "processing City road town CityID: 3577430\n",
      "processing City changanacheri CityID: 1274664\n",
      "processing City camacha CityID: 2270385\n",
      "processing City ryotsu CityID: 1853371\n",
      "processing City isangel CityID: 2136825\n",
      "processing City dabat CityID: 340358\n",
      "processing City hambantota CityID: 1244926\n",
      "processing City esperance CityID: 2071860\n",
      "processing City robertson CityID: 4653638\n",
      "processing City mareeba CityID: 2158767\n",
      "processing City pontianak CityID: 1630789\n",
      "processing City husavik CityID: 2629833\n",
      "processing City kungurtug CityID: 1501377\n",
      "processing City kaiu CityID: 589115\n",
      "processing City chimbote CityID: 3698304\n",
      "processing City maragogi CityID: 3395458\n",
      "processing City gboko CityID: 2318374\n",
      "processing City constitucion CityID: 3893726\n",
      "processing City nishihara CityID: 1855342\n",
      "processing City ritchie CityID: 961226\n",
      "processing City nicoya CityID: 3622716\n",
      "processing City buraydah CityID: 107304\n",
      "processing City qaqortoq CityID: 3420846\n",
      "processing City kaitangata CityID: 2208248\n",
      "processing City caruray CityID: 1718234\n",
      "processing City tabasco CityID: 3516458\n",
      "processing City matadi CityID: 2313002\n",
      "processing City juneau CityID: 5554072\n",
      "processing City micheweni CityID: 153955\n",
      "processing City teknaf CityID: 1185095\n",
      "processing City dire CityID: 2458624\n",
      "processing City hibbing CityID: 5030005\n",
      "processing City gold coast CityID: 2165087\n",
      "processing City kahului CityID: 5847411\n",
      "processing City hermosillo CityID: 4004898\n",
      "processing City saint-pierre CityID: 935214\n",
      "processing City rocha CityID: 3440777\n",
      "processing City avera CityID: 4231997\n",
      "processing City isiro CityID: 215771\n",
      "processing City waipawa CityID: 2206874\n",
      "processing City salamiyah CityID: 164947\n",
      "processing City tonekabon CityID: 112656\n",
      "processing City bambous virieux CityID: 1106677\n"
     ]
    },
    {
     "name": "stdout",
     "output_type": "stream",
     "text": [
      "processing City akureyri CityID: 2633274\n",
      "processing City itupiranga CityID: 3397851\n",
      "processing City kalmunai CityID: 1242110\n",
      "processing City puerto cabezas CityID: 3617154\n",
      "processing City vanimo CityID: 2084442\n",
      "processing City faya CityID: 110690\n",
      "processing City plouzane CityID: 2986626\n",
      "processing City davila CityID: 1715335\n",
      "processing City santiago de chuco CityID: 3692072\n",
      "processing City voi CityID: 178522\n",
      "processing City chkalovskoye CityID: 2025325\n",
      "processing City kruisfontein CityID: 986717\n",
      "processing City vicosa do ceara CityID: 3385106\n",
      "processing City gisborne CityID: 2206854\n",
      "processing City kiunga CityID: 2093846\n",
      "processing City san quintin CityID: 3984997\n",
      "processing City tigil CityID: 2120612\n",
      "processing City royan CityID: 2982343\n",
      "processing City pangnirtung CityID: 6096551\n",
      "processing City vila CityID: 7117100\n",
      "processing City miandrivazo CityID: 1059051\n",
      "processing City mapiri CityID: 3910758\n",
      "processing City bathsheba CityID: 3374083\n",
      "processing City kattivakkam CityID: 1267433\n",
      "processing City linhares CityID: 3458498\n",
      "processing City raudeberg CityID: 3146487\n",
      "processing City gushikawa CityID: 1863495\n",
      "processing City samarai CityID: 2132606\n",
      "processing City san rafael CityID: 3836669\n",
      "processing City manitouwadge CityID: 6065253\n",
      "processing City saint anthony CityID: 5044290\n",
      "processing City marsh harbour CityID: 3571913\n",
      "processing City sabha CityID: 2212775\n",
      "processing City nkhata bay CityID: 924732\n",
      "processing City ola CityID: 2122574\n",
      "processing City freeport CityID: 5117949\n",
      "processing City warrington CityID: 2634739\n",
      "processing City yaan CityID: 2338660\n",
      "processing City waingapu CityID: 1622318\n",
      "processing City acarau CityID: 3408368\n",
      "processing City bardsir CityID: 124647\n",
      "processing City ostrovnoy CityID: 556268\n",
      "processing City letka CityID: 535639\n",
      "processing City jeremie CityID: 3723593\n",
      "processing City elizabeth city CityID: 4465088\n",
      "processing City tolaga bay CityID: 2180991\n",
      "processing City alyangula CityID: 2079582\n",
      "processing City feijo CityID: 3664243\n",
      "processing City ardakan CityID: 143073\n",
      "processing City boa vista CityID: 3664980\n",
      "processing City goure CityID: 2444219\n",
      "processing City batemans bay CityID: 2176639\n",
      "processing City usinsk CityID: 863061\n",
      "processing City maryborough CityID: 2158562\n",
      "processing City winnemucca CityID: 5710360\n",
      "processing City urumqi CityID: 1529102\n",
      "processing City mayumba CityID: 2399001\n",
      "processing City dzhebariki-khaya CityID: 2024626\n",
      "processing City orange CityID: 5379524\n",
      "processing City chipinge CityID: 893549\n",
      "processing City nome CityID: 5870133\n",
      "processing City alice springs CityID: 2077895\n",
      "processing City itarema CityID: 3393692\n",
      "processing City bukama CityID: 217834\n",
      "processing City inirida CityID: 3671450\n",
      "processing City hun CityID: 2216645\n",
      "processing City veydelevka CityID: 473856\n",
      "processing City nanakuli CityID: 5851349\n",
      "processing City seoul CityID: 1835848\n",
      "processing City guerrero negro CityID: 4021858\n",
      "processing City dekar CityID: 933815\n",
      "processing City hualmay CityID: 3939761\n",
      "processing City kathmandu CityID: 1283240\n",
      "processing City garissa CityID: 197745\n",
      "processing City xinye CityID: 1788522\n",
      "processing City urucui CityID: 3385658\n",
      "processing City geraldton CityID: 2070998\n",
      "processing City lata CityID: 2738381\n",
      "processing City lyngseidet CityID: 778829\n",
      "processing City kaili CityID: 1638368\n",
      "processing City lugoba CityID: 155743\n",
      "processing City charqueadas CityID: 3466261\n",
      "processing City nizwa CityID: 286987\n",
      "processing City sur CityID: 286245\n",
      "processing City hobyo CityID: 57000\n",
      "processing City singaparna CityID: 1626936\n",
      "processing City bloemfontein CityID: 1018725\n",
      "processing City susuman CityID: 2120864\n",
      "processing City sorong CityID: 1626542\n",
      "processing City naze CityID: 1855540\n",
      "processing City xique-xique CityID: 3444823\n",
      "processing City qinzhou CityID: 1797551\n",
      "processing City shingu CityID: 1847947\n",
      "processing City ayan CityID: 2027316\n",
      "processing City vershino-darasunskiy CityID: 2013442\n",
      "processing City xining CityID: 1788852\n",
      "processing City panara CityID: 1260600\n",
      "processing City ranavav CityID: 1258534\n",
      "processing City cabedelo CityID: 3404558\n",
      "processing City fairbanks CityID: 5861897\n",
      "processing City dongsheng CityID: 1812256\n",
      "processing City maniitsoq CityID: 3421982\n",
      "processing City arua CityID: 235039\n",
      "processing City ashtian CityID: 113636\n",
      "processing City niteroi CityID: 3456283\n",
      "processing City laguna CityID: 5364271\n",
      "processing City hami CityID: 1529484\n",
      "processing City sangmelima CityID: 2222230\n",
      "processing City mihara CityID: 1857334\n",
      "processing City derzhavinsk CityID: 1524606\n",
      "processing City prieska CityID: 964090\n",
      "processing City tambacounda CityID: 2244991\n",
      "processing City le vauclin CityID: 3570392\n",
      "processing City yangambi CityID: 203717\n",
      "processing City lumphat CityID: 1830377\n",
      "processing City saint-omer CityID: 2977844\n",
      "processing City bubaque CityID: 2374583\n",
      "processing City merauke CityID: 2082539\n",
      "processing City piterka CityID: 509269\n",
      "processing City chuguyevka CityID: 2025286\n",
      "processing City kerema CityID: 2094144\n",
      "processing City aktash CityID: 1511997\n",
      "processing City viedma CityID: 3832899\n",
      "processing City mount gambier CityID: 2156643\n",
      "processing City shakhtinsk CityID: 1519327\n",
      "processing City yucca valley CityID: 5411079\n",
      "processing City wanaka CityID: 2184707\n",
      "processing City nuevo casas grandes CityID: 3994616\n",
      "processing City erzin CityID: 296852\n",
      "processing City cayenne CityID: 3382160\n",
      "processing City zharkent CityID: 1520253\n",
      "processing City narasapur CityID: 1261852\n",
      "processing City orocue CityID: 3673536\n",
      "processing City magadan CityID: 2123628\n",
      "processing City arica CityID: 3899361\n",
      "processing City port keats CityID: 2063039\n",
      "processing City joshimath CityID: 1268814\n",
      "processing City meadow lake CityID: 5478673\n",
      "processing City carinhanha CityID: 3466950\n",
      "processing City samfya CityID: 899274\n",
      "processing City veracruz CityID: 3514780\n",
      "processing City miyako CityID: 2111884\n",
      "processing City dwarka CityID: 1272140\n",
      "processing City babu CityID: 1817858\n",
      "processing City saint-georges CityID: 3579925\n",
      "processing City taft CityID: 113632\n",
      "processing City tamiahua CityID: 3516376\n",
      "processing City abadiania CityID: 3473268\n",
      "processing City arman CityID: 2127060\n",
      "processing City durban CityID: 1007311\n",
      "processing City togur CityID: 1489499\n",
      "processing City barmer CityID: 1276901\n",
      "processing City pelym CityID: 1495385\n",
      "processing City goderich CityID: 5962442\n",
      "processing City manakara CityID: 1061605\n",
      "processing City abu dhabi CityID: 292968\n",
      "processing City edelira CityID: 3438743\n",
      "processing City lianran CityID: 1803886\n",
      "processing City jalu CityID: 86049\n",
      "processing City ayolas CityID: 3439378\n",
      "processing City san juan CityID: 3837213\n",
      "processing City fruitvale CityID: 5422557\n",
      "processing City zhumadian CityID: 1783873\n",
      "processing City ust-tsilma CityID: 477940\n",
      "processing City verkhnevilyuysk CityID: 2013639\n",
      "processing City luwuk CityID: 1637001\n",
      "processing City opuwo CityID: 3354077\n",
      "processing City salta CityID: 3838233\n",
      "processing City macau CityID: 1821274\n",
      "processing City inhambane CityID: 1045114\n",
      "processing City shenkursk CityID: 494884\n"
     ]
    }
   ],
   "source": [
    "Temp = []\n",
    "MaxTemp = []\n",
    "Humidity = []\n",
    "Cloudiness = []\n",
    "WindSpeed = []\n",
    "Latitude = []\n",
    "Longitude = []\n",
    "CityID = []\n",
    "City = []\n",
    "LatLong = []\n",
    "CountryCode = []\n",
    "\n",
    "\n",
    "for city in cities:\n",
    "    response = requests.get(query_url + city).json()\n",
    "    if response['cod'] == 200:\n",
    "        Latitude.append(response['coord']['lat'])\n",
    "        Longitude.append(response['coord']['lon'])\n",
    "        Humidity.append(response['main']['humidity'])\n",
    "        Temp.append(response['main']['temp'])\n",
    "        Cloudiness.append(response['clouds']['all'])\n",
    "        WindSpeed.append(response['wind']['speed'])\n",
    "        CityID.append(response['id'])\n",
    "        City.append(response['name'])\n",
    "        MaxTemp.append(response['main']['temp_max'])\n",
    "        LatLong.append(response['coord'])\n",
    "        CountryCode.append(response['sys']['country'])\n",
    "        print(f\"processing City {city} CityID: {response['id']}\")\n",
    "        \n",
    "    "
   ]
  },
  {
   "cell_type": "code",
   "execution_count": 30,
   "metadata": {},
   "outputs": [],
   "source": [
    "### Convert Raw Data to DataFrame\n",
    "# Export the city data into a .csv.\n",
    "# Display the DataFrame\n",
    "city_df = pd.DataFrame({'CityID' : CityID,\n",
    "                    'City' : City,\n",
    "                    'Humidity' : Humidity,\n",
    "                    'Temp' : Temp,\n",
    "                    'Latitude' : Latitude,\n",
    "                    'Cloudiness' : Cloudiness,\n",
    "                    'WindSpeed' : WindSpeed,\n",
    "                    'MaxTemp' : MaxTemp,\n",
    "                    'Longitude' : Longitude,\n",
    "                     'LatLong' : LatLong,\n",
    "                     'CountryCode' : CountryCode\n",
    "                       })\n",
    "\n",
    "city_df\n",
    "\n",
    "city_df.to_csv('city_df.csv')"
   ]
  },
  {
   "cell_type": "markdown",
   "metadata": {},
   "source": [
    "### Plotting the Data\n",
    "* Use proper labeling of the plots using plot titles (including date of analysis) and axes labels.\n",
    "* Save the plotted figures as .pngs."
   ]
  },
  {
   "cell_type": "markdown",
   "metadata": {},
   "source": [
    "#### Latitude vs. Temperature Plot"
   ]
  },
  {
   "cell_type": "code",
   "execution_count": 45,
   "metadata": {
    "scrolled": true
   },
   "outputs": [
    {
     "data": {
      "image/png": "[encoded data removed]",
      "text/plain": [
       "<Figure size 432x288 with 1 Axes>"
      ]
     },
     "metadata": {
      "needs_background": "light"
     },
     "output_type": "display_data"
    },
    {
     "data": {
      "text/plain": [
       "<Figure size 432x288 with 0 Axes>"
      ]
     },
     "metadata": {},
     "output_type": "display_data"
    }
   ],
   "source": [
    "x_values = city_df['Latitude']\n",
    "y_values = city_df['Temp']\n",
    "plt.scatter(x_values,y_values)\n",
    "plt.xlabel('Latitude')\n",
    "plt.ylabel('Temperature')\n",
    "plt.title('Latitude vs. Temp(f)')\n",
    "plt.show()\n",
    "plt.savefig('Latitude-Temp.png')\n",
    "#This scatter plot is showing the relationship between Temperature and Latititue. It shows that the temperature is highest between\n",
    "# -20 and +20 latitude, or the closer to 0 the higher the temp.\n"
   ]
  },
  {
   "cell_type": "markdown",
   "metadata": {},
   "source": [
    "#### Latitude vs. Humidity Plot"
   ]
  },
  {
   "cell_type": "code",
   "execution_count": 46,
   "metadata": {
    "scrolled": true
   },
   "outputs": [
    {
     "data": {
      "image/png": "[encoded data removed]",
      "text/plain": [
       "<Figure size 432x288 with 1 Axes>"
      ]
     },
     "metadata": {
      "needs_background": "light"
     },
     "output_type": "display_data"
    },
    {
     "data": {
      "text/plain": [
       "<Figure size 432x288 with 0 Axes>"
      ]
     },
     "metadata": {},
     "output_type": "display_data"
    }
   ],
   "source": [
    "x_values = city_df['Latitude']\n",
    "y_values = city_df['Humidity']\n",
    "plt.scatter(x_values,y_values)\n",
    "plt.xlabel('Latitude')\n",
    "plt.ylabel('Humidity')\n",
    "plt.title('Latitude vs. Humidity(%)')\n",
    "plt.show()\n",
    "plt.savefig('Latitude-Humidity.png')\n",
    "#This is plotting the humidity % for each location based on it's latitude."
   ]
  },
  {
   "cell_type": "markdown",
   "metadata": {},
   "source": [
    "#### Latitude vs. Cloudiness Plot"
   ]
  },
  {
   "cell_type": "code",
   "execution_count": 47,
   "metadata": {},
   "outputs": [
    {
     "data": {
      "image/png": "[encoded data removed]",
      "text/plain": [
       "<Figure size 432x288 with 1 Axes>"
      ]
     },
     "metadata": {
      "needs_background": "light"
     },
     "output_type": "display_data"
    },
    {
     "data": {
      "text/plain": [
       "<Figure size 432x288 with 0 Axes>"
      ]
     },
     "metadata": {},
     "output_type": "display_data"
    }
   ],
   "source": [
    "x_values = city_df['Latitude']\n",
    "y_values = city_df['Cloudiness']\n",
    "plt.scatter(x_values,y_values)\n",
    "plt.xlabel('Latitude')\n",
    "plt.ylabel('Cloudiness')\n",
    "plt.title('Latitude vs. Cloudiness(%)')\n",
    "plt.show()\n",
    "plt.savefig('Latitude-Clouds.png')\n",
    "#This scatter plot is showing the relationship between latitude and cloudiness, which does not seem to be linked."
   ]
  },
  {
   "cell_type": "markdown",
   "metadata": {},
   "source": [
    "#### Latitude vs. Wind Speed Plot"
   ]
  },
  {
   "cell_type": "code",
   "execution_count": 48,
   "metadata": {},
   "outputs": [
    {
     "data": {
      "image/png": "[encoded data removed]",
      "text/plain": [
       "<Figure size 432x288 with 1 Axes>"
      ]
     },
     "metadata": {
      "needs_background": "light"
     },
     "output_type": "display_data"
    },
    {
     "data": {
      "text/plain": [
       "<Figure size 432x288 with 0 Axes>"
      ]
     },
     "metadata": {},
     "output_type": "display_data"
    }
   ],
   "source": [
    "x_values = city_df['Latitude']\n",
    "y_values = city_df['WindSpeed']\n",
    "plt.scatter(x_values,y_values)\n",
    "plt.xlabel('Latitude')\n",
    "plt.ylabel('WindSpeed')\n",
    "plt.title('Latitude vs. WindSpeed(mph)')\n",
    "plt.show()\n",
    "plt.savefig('Latitude-WindSpeed.png')\n",
    "#This is plotting the wind speed of each latitude."
   ]
  },
  {
   "cell_type": "markdown",
   "metadata": {},
   "source": [
    "## Linear Regression"
   ]
  },
  {
   "cell_type": "code",
   "execution_count": 35,
   "metadata": {},
   "outputs": [
    {
     "data": {
      "text/html": [
       "<div>\n",
       "<style scoped>\n",
       "    .dataframe tbody tr th:only-of-type {\n",
       "        vertical-align: middle;\n",
       "    }\n",
       "\n",
       "    .dataframe tbody tr th {\n",
       "        vertical-align: top;\n",
       "    }\n",
       "\n",
       "    .dataframe thead th {\n",
       "        text-align: right;\n",
       "    }\n",
       "</style>\n",
       "<table border=\"1\" class=\"dataframe\">\n",
       "  <thead>\n",
       "    <tr style=\"text-align: right;\">\n",
       "      <th></th>\n",
       "      <th>CityID</th>\n",
       "      <th>City</th>\n",
       "      <th>Humidity</th>\n",
       "      <th>Temp</th>\n",
       "      <th>Latitude</th>\n",
       "      <th>Cloudiness</th>\n",
       "      <th>WindSpeed</th>\n",
       "      <th>MaxTemp</th>\n",
       "      <th>Longitude</th>\n",
       "      <th>LatLong</th>\n",
       "      <th>CountryCode</th>\n",
       "    </tr>\n",
       "  </thead>\n",
       "  <tbody>\n",
       "    <tr>\n",
       "      <td>0</td>\n",
       "      <td>3833367</td>\n",
       "      <td>Ushuaia</td>\n",
       "      <td>65</td>\n",
       "      <td>46.40</td>\n",
       "      <td>-54.80</td>\n",
       "      <td>40</td>\n",
       "      <td>16.11</td>\n",
       "      <td>46.40</td>\n",
       "      <td>-68.30</td>\n",
       "      <td>{'lon': -68.3, 'lat': -54.8}</td>\n",
       "      <td>AR</td>\n",
       "    </tr>\n",
       "    <tr>\n",
       "      <td>1</td>\n",
       "      <td>3471451</td>\n",
       "      <td>Arraial do Cabo</td>\n",
       "      <td>85</td>\n",
       "      <td>74.59</td>\n",
       "      <td>-22.97</td>\n",
       "      <td>100</td>\n",
       "      <td>3.15</td>\n",
       "      <td>74.59</td>\n",
       "      <td>-42.03</td>\n",
       "      <td>{'lon': -42.03, 'lat': -22.97}</td>\n",
       "      <td>BR</td>\n",
       "    </tr>\n",
       "    <tr>\n",
       "      <td>3</td>\n",
       "      <td>2163355</td>\n",
       "      <td>Hobart</td>\n",
       "      <td>25</td>\n",
       "      <td>83.16</td>\n",
       "      <td>-42.88</td>\n",
       "      <td>100</td>\n",
       "      <td>24.16</td>\n",
       "      <td>84.99</td>\n",
       "      <td>147.33</td>\n",
       "      <td>{'lon': 147.33, 'lat': -42.88}</td>\n",
       "      <td>AU</td>\n",
       "    </tr>\n",
       "    <tr>\n",
       "      <td>10</td>\n",
       "      <td>2206939</td>\n",
       "      <td>Bluff</td>\n",
       "      <td>49</td>\n",
       "      <td>74.62</td>\n",
       "      <td>-46.60</td>\n",
       "      <td>71</td>\n",
       "      <td>6.93</td>\n",
       "      <td>74.62</td>\n",
       "      <td>168.33</td>\n",
       "      <td>{'lon': 168.33, 'lat': -46.6}</td>\n",
       "      <td>NZ</td>\n",
       "    </tr>\n",
       "    <tr>\n",
       "      <td>11</td>\n",
       "      <td>4033356</td>\n",
       "      <td>Tiarei</td>\n",
       "      <td>78</td>\n",
       "      <td>82.22</td>\n",
       "      <td>-17.53</td>\n",
       "      <td>20</td>\n",
       "      <td>18.34</td>\n",
       "      <td>82.40</td>\n",
       "      <td>-149.33</td>\n",
       "      <td>{'lon': -149.33, 'lat': -17.53}</td>\n",
       "      <td>PF</td>\n",
       "    </tr>\n",
       "  </tbody>\n",
       "</table>\n",
       "</div>"
      ],
      "text/plain": [
       "     CityID             City  Humidity   Temp  Latitude  Cloudiness  \\\n",
       "0   3833367          Ushuaia        65  46.40    -54.80          40   \n",
       "1   3471451  Arraial do Cabo        85  74.59    -22.97         100   \n",
       "3   2163355           Hobart        25  83.16    -42.88         100   \n",
       "10  2206939            Bluff        49  74.62    -46.60          71   \n",
       "11  4033356           Tiarei        78  82.22    -17.53          20   \n",
       "\n",
       "    WindSpeed  MaxTemp  Longitude                          LatLong CountryCode  \n",
       "0       16.11    46.40     -68.30     {'lon': -68.3, 'lat': -54.8}          AR  \n",
       "1        3.15    74.59     -42.03   {'lon': -42.03, 'lat': -22.97}          BR  \n",
       "3       24.16    84.99     147.33   {'lon': 147.33, 'lat': -42.88}          AU  \n",
       "10       6.93    74.62     168.33    {'lon': 168.33, 'lat': -46.6}          NZ  \n",
       "11      18.34    82.40    -149.33  {'lon': -149.33, 'lat': -17.53}          PF  "
      ]
     },
     "execution_count": 35,
     "metadata": {},
     "output_type": "execute_result"
    }
   ],
   "source": [
    "# Create Northern and Southern Hemisphere DataFrames\n",
    "NorthHemi_df = city_df[city_df['Latitude']>=0]\n",
    "SouthHemi_df = city_df[city_df['Latitude']<0]\n",
    "\n",
    "NorthHemi_df.head()\n",
    "SouthHemi_df.head()"
   ]
  },
  {
   "cell_type": "markdown",
   "metadata": {},
   "source": [
    "####  Northern Hemisphere - Max Temp vs. Latitude Linear Regression"
   ]
  },
  {
   "cell_type": "code",
   "execution_count": 36,
   "metadata": {},
   "outputs": [
    {
     "name": "stdout",
     "output_type": "stream",
     "text": [
      "2      34.673124\n",
      "4      -7.067541\n",
      "5      46.938846\n",
      "6      18.792801\n",
      "7      28.626641\n",
      "         ...    \n",
      "561    46.792667\n",
      "562     3.656660\n",
      "563     6.301166\n",
      "567    61.118180\n",
      "569     8.081888\n",
      "Name: Latitude, Length: 382, dtype: float64\n",
      "y = -1.33x +90.62\n",
      "The r-squared is: 0.7504252791881989\n"
     ]
    },
    {
     "data": {
      "image/png": "[encoded data removed]",
      "text/plain": [
       "<Figure size 432x288 with 1 Axes>"
      ]
     },
     "metadata": {
      "needs_background": "light"
     },
     "output_type": "display_data"
    },
    {
     "data": {
      "text/plain": [
       "<Figure size 432x288 with 0 Axes>"
      ]
     },
     "metadata": {},
     "output_type": "display_data"
    }
   ],
   "source": [
    "x_values = NorthHemi_df['Latitude']\n",
    "y_values = NorthHemi_df['MaxTemp']\n",
    "\n",
    "(slope, intercept, rvalue, pvalue, stderr) = linregress(x_values, y_values)\n",
    "\n",
    "# Get regression values\n",
    "regress_values = x_values * slope + intercept\n",
    "print(regress_values)\n",
    "\n",
    "line_eq = \"y = \" + str(round(slope,2)) + \"x +\" + str(round(intercept,2))\n",
    "print(line_eq)\n",
    "\n",
    "plt.scatter(x_values,y_values)\n",
    "plt.plot(x_values,regress_values,\"r-\")\n",
    "\n",
    "# Label plot and annotate the line equation\n",
    "plt.xlabel('Latitude')\n",
    "plt.ylabel('Max Temperature')\n",
    "plt.annotate(line_eq,(-1,0),fontsize=15,color=\"red\")\n",
    "#plt.annotate lets you put text in graph\n",
    "\n",
    "# Print r square value\n",
    "print(f\"The r-squared is: {rvalue*rvalue}\")\n",
    "\n",
    "# Show plot\n",
    "plt.show()\n",
    "plt.savefig('Lat-Temp North.png')\n",
    " "
   ]
  },
  {
   "cell_type": "markdown",
   "metadata": {},
   "source": [
    "####  Southern Hemisphere - Max Temp vs. Latitude Linear Regression"
   ]
  },
  {
   "cell_type": "code",
   "execution_count": 37,
   "metadata": {},
   "outputs": [
    {
     "name": "stdout",
     "output_type": "stream",
     "text": [
      "0      66.212705\n",
      "1      74.586225\n",
      "3      69.348500\n",
      "10     68.369879\n",
      "11     76.017327\n",
      "         ...    \n",
      "559    72.331715\n",
      "564    80.379028\n",
      "565    75.877899\n",
      "566    74.107438\n",
      "568    74.352093\n",
      "Name: Latitude, Length: 188, dtype: float64\n",
      "y = 0.26x +80.63\n",
      "The r-squared is: 0.13429140245555285\n"
     ]
    },
    {
     "data": {
      "image/png": "[encoded data removed]",
      "text/plain": [
       "<Figure size 432x288 with 1 Axes>"
      ]
     },
     "metadata": {
      "needs_background": "light"
     },
     "output_type": "display_data"
    },
    {
     "data": {
      "text/plain": [
       "<Figure size 432x288 with 0 Axes>"
      ]
     },
     "metadata": {},
     "output_type": "display_data"
    }
   ],
   "source": [
    "x_values = SouthHemi_df['Latitude']\n",
    "y_values = SouthHemi_df['MaxTemp']\n",
    "\n",
    "(slope, intercept, rvalue, pvalue, stderr) = linregress(x_values, y_values)\n",
    "\n",
    "# Get regression values\n",
    "regress_values = x_values * slope + intercept\n",
    "print(regress_values)\n",
    "\n",
    "line_eq = \"y = \" + str(round(slope,2)) + \"x +\" + str(round(intercept,2))\n",
    "print(line_eq)\n",
    "\n",
    "plt.scatter(x_values,y_values)\n",
    "plt.plot(x_values,regress_values,\"r-\")\n",
    "\n",
    "# Label plot and annotate the line equation\n",
    "plt.xlabel('Latitude')\n",
    "plt.ylabel('Max Temperature')\n",
    "plt.annotate(line_eq,(-30,50),fontsize=15,color=\"red\")\n",
    "#plt.annotate lets you put text in graph\n",
    "\n",
    "# Print r square value\n",
    "print(f\"The r-squared is: {rvalue*rvalue}\")\n",
    "\n",
    "# Show plot\n",
    "plt.show()\n",
    "plt.savefig('Lat-Temp South.png')"
   ]
  },
  {
   "cell_type": "code",
   "execution_count": null,
   "metadata": {},
   "outputs": [],
   "source": [
    "#These 2 plots are showing the max temperatures versus latitude in the northern and southern hemispheres. They show that there is a stronger relationship between latitude and max tempurature in the Northern Hemisphere\n",
    "#and the max temp in both hemispheres get higher closer to the equator."
   ]
  },
  {
   "cell_type": "markdown",
   "metadata": {},
   "source": [
    "####  Northern Hemisphere - Humidity (%) vs. Latitude Linear Regression"
   ]
  },
  {
   "cell_type": "code",
   "execution_count": 38,
   "metadata": {},
   "outputs": [
    {
     "name": "stdout",
     "output_type": "stream",
     "text": [
      "2      76.320064\n",
      "4      87.982426\n",
      "5      72.893015\n",
      "6      80.757034\n",
      "7      78.009454\n",
      "         ...    \n",
      "561    72.933857\n",
      "562    84.986079\n",
      "563    84.247203\n",
      "567    68.931302\n",
      "569    83.749668\n",
      "Name: Latitude, Length: 382, dtype: float64\n",
      "y = 0.37x +60.69\n",
      "The r-squared is: 0.19192918570698322\n"
     ]
    },
    {
     "data": {
      "image/png": "[encoded data removed]",
      "text/plain": [
       "<Figure size 432x288 with 1 Axes>"
      ]
     },
     "metadata": {
      "needs_background": "light"
     },
     "output_type": "display_data"
    },
    {
     "data": {
      "text/plain": [
       "<Figure size 432x288 with 0 Axes>"
      ]
     },
     "metadata": {},
     "output_type": "display_data"
    }
   ],
   "source": [
    "x_values = NorthHemi_df['Latitude']\n",
    "y_values = NorthHemi_df['Humidity']\n",
    "\n",
    "(slope, intercept, rvalue, pvalue, stderr) = linregress(x_values, y_values)\n",
    "\n",
    "# Get regression values\n",
    "regress_values = x_values * slope + intercept\n",
    "print(regress_values)\n",
    "\n",
    "line_eq = \"y = \" + str(round(slope,2)) + \"x +\" + str(round(intercept,2))\n",
    "print(line_eq)\n",
    "\n",
    "plt.scatter(x_values,y_values)\n",
    "plt.plot(x_values,regress_values,\"r-\")\n",
    "\n",
    "# Label plot and annotate the line equation\n",
    "plt.xlabel('Latitude')\n",
    "plt.ylabel('Humidity (%)')\n",
    "plt.annotate(line_eq,(45,25),fontsize=15,color=\"red\")\n",
    "#plt.annotate lets you put text in graph\n",
    "\n",
    "# Print r square value\n",
    "print(f\"The r-squared is: {rvalue*rvalue}\")\n",
    "\n",
    "# Show plot\n",
    "plt.show()\n",
    "plt.savefig('Lat-Humidity North.png')"
   ]
  },
  {
   "cell_type": "markdown",
   "metadata": {},
   "source": [
    "####  Southern Hemisphere - Humidity (%) vs. Latitude Linear Regression"
   ]
  },
  {
   "cell_type": "code",
   "execution_count": 39,
   "metadata": {
    "scrolled": true
   },
   "outputs": [
    {
     "name": "stdout",
     "output_type": "stream",
     "text": [
      "0      63.578871\n",
      "1      76.003734\n",
      "3      68.231852\n",
      "10     66.779747\n",
      "11     78.127242\n",
      "         ...    \n",
      "559    72.658428\n",
      "564    84.599256\n",
      "565    77.920356\n",
      "566    75.293296\n",
      "568    75.656322\n",
      "Name: Latitude, Length: 188, dtype: float64\n",
      "y = 0.39x +84.97\n",
      "The r-squared is: 0.07760796754995362\n"
     ]
    },
    {
     "data": {
      "image/png": "[encoded data removed]",
      "text/plain": [
       "<Figure size 432x288 with 1 Axes>"
      ]
     },
     "metadata": {
      "needs_background": "light"
     },
     "output_type": "display_data"
    },
    {
     "data": {
      "text/plain": [
       "<Figure size 432x288 with 0 Axes>"
      ]
     },
     "metadata": {},
     "output_type": "display_data"
    }
   ],
   "source": [
    "x_values = SouthHemi_df['Latitude']\n",
    "y_values = SouthHemi_df['Humidity']\n",
    "\n",
    "(slope, intercept, rvalue, pvalue, stderr) = linregress(x_values, y_values)\n",
    "\n",
    "# Get regression values\n",
    "regress_values = x_values * slope + intercept\n",
    "print(regress_values)\n",
    "\n",
    "line_eq = \"y = \" + str(round(slope,2)) + \"x +\" + str(round(intercept,2))\n",
    "print(line_eq)\n",
    "\n",
    "plt.scatter(x_values,y_values)\n",
    "plt.plot(x_values,regress_values,\"r-\")\n",
    "\n",
    "# Label plot and annotate the line equation\n",
    "plt.xlabel('Latitude')\n",
    "plt.ylabel('Humidity (%)')\n",
    "plt.annotate(line_eq,(-40,30),fontsize=15,color=\"red\")\n",
    "#plt.annotate lets you put text in graph\n",
    "\n",
    "# Print r square value\n",
    "print(f\"The r-squared is: {rvalue*rvalue}\")\n",
    "\n",
    "# Show plot\n",
    "plt.show()\n",
    "plt.savefig('Lat-Humidity South.png')"
   ]
  },
  {
   "cell_type": "code",
   "execution_count": null,
   "metadata": {},
   "outputs": [],
   "source": [
    "#These 2 graphs are showing the relationship between latitude and humidity% inthe northern and southern hemispheres. Neither show a very strong corralation, except that they seem to get more humid as you go north."
   ]
  },
  {
   "cell_type": "markdown",
   "metadata": {},
   "source": [
    "####  Northern Hemisphere - Cloudiness (%) vs. Latitude Linear Regression"
   ]
  },
  {
   "cell_type": "code",
   "execution_count": 40,
   "metadata": {},
   "outputs": [
    {
     "name": "stdout",
     "output_type": "stream",
     "text": [
      "2      76.320064\n",
      "4      87.982426\n",
      "5      72.893015\n",
      "6      80.757034\n",
      "7      78.009454\n",
      "         ...    \n",
      "561    72.933857\n",
      "562    84.986079\n",
      "563    84.247203\n",
      "567    68.931302\n",
      "569    83.749668\n",
      "Name: Latitude, Length: 382, dtype: float64\n",
      "y = 0.37x +60.69\n",
      "The r-squared is: 0.19192918570698322\n"
     ]
    },
    {
     "data": {
      "image/png": "[encoded data removed]",
      "text/plain": [
       "<Figure size 432x288 with 1 Axes>"
      ]
     },
     "metadata": {
      "needs_background": "light"
     },
     "output_type": "display_data"
    },
    {
     "data": {
      "text/plain": [
       "<Figure size 432x288 with 0 Axes>"
      ]
     },
     "metadata": {},
     "output_type": "display_data"
    }
   ],
   "source": [
    "x_values = NorthHemi_df['Latitude']\n",
    "y_values = NorthHemi_df['Humidity']\n",
    "\n",
    "(slope, intercept, rvalue, pvalue, stderr) = linregress(x_values, y_values)\n",
    "\n",
    "# Get regression values\n",
    "regress_values = x_values * slope + intercept\n",
    "print(regress_values)\n",
    "\n",
    "line_eq = \"y = \" + str(round(slope,2)) + \"x +\" + str(round(intercept,2))\n",
    "print(line_eq)\n",
    "\n",
    "plt.scatter(x_values,y_values)\n",
    "plt.plot(x_values,regress_values,\"r-\")\n",
    "\n",
    "# Label plot and annotate the line equation\n",
    "plt.xlabel('Latitude')\n",
    "plt.ylabel('Cloudiness (%)')\n",
    "plt.annotate(line_eq,(30,20),fontsize=15,color=\"red\")\n",
    "#plt.annotate lets you put text in graph\n",
    "\n",
    "# Print r square value\n",
    "print(f\"The r-squared is: {rvalue*rvalue}\")\n",
    "\n",
    "# Show plot\n",
    "plt.show()\n",
    "plt.savefig('Lat-Cloudiness North.png')"
   ]
  },
  {
   "cell_type": "markdown",
   "metadata": {},
   "source": [
    "####  Southern Hemisphere - Cloudiness (%) vs. Latitude Linear Regression"
   ]
  },
  {
   "cell_type": "code",
   "execution_count": 41,
   "metadata": {},
   "outputs": [
    {
     "name": "stdout",
     "output_type": "stream",
     "text": [
      "0      54.638353\n",
      "1      65.017589\n",
      "3      58.525267\n",
      "10     57.312237\n",
      "11     66.791483\n",
      "         ...    \n",
      "559    62.223054\n",
      "564    72.197946\n",
      "565    66.618658\n",
      "566    64.424117\n",
      "568    64.727374\n",
      "Name: Latitude, Length: 188, dtype: float64\n",
      "y = 0.33x +72.51\n",
      "The r-squared is: 0.015097188028049536\n"
     ]
    },
    {
     "data": {
      "image/png": "[encoded data removed]",
      "text/plain": [
       "<Figure size 432x288 with 1 Axes>"
      ]
     },
     "metadata": {
      "needs_background": "light"
     },
     "output_type": "display_data"
    },
    {
     "data": {
      "text/plain": [
       "<Figure size 432x288 with 0 Axes>"
      ]
     },
     "metadata": {},
     "output_type": "display_data"
    }
   ],
   "source": [
    "x_values = SouthHemi_df['Latitude']\n",
    "y_values = SouthHemi_df['Cloudiness']\n",
    "\n",
    "(slope, intercept, rvalue, pvalue, stderr) = linregress(x_values, y_values)\n",
    "\n",
    "# Get regression values\n",
    "regress_values = x_values * slope + intercept\n",
    "print(regress_values)\n",
    "\n",
    "line_eq = \"y = \" + str(round(slope,2)) + \"x +\" + str(round(intercept,2))\n",
    "print(line_eq)\n",
    "\n",
    "plt.scatter(x_values,y_values)\n",
    "plt.plot(x_values,regress_values,\"r-\")\n",
    "\n",
    "# Label plot and annotate the line equation\n",
    "plt.xlabel('Latitude')\n",
    "plt.ylabel('Cloudiness (%)')\n",
    "plt.annotate(line_eq,(-50,10),fontsize=15,color=\"red\")\n",
    "#plt.annotate lets you put text in graph\n",
    "\n",
    "# Print r square value\n",
    "print(f\"The r-squared is: {rvalue*rvalue}\")\n",
    "\n",
    "# Show plot\n",
    "plt.show()\n",
    "plt.savefig('Lat-Cloudiness South.png')"
   ]
  },
  {
   "cell_type": "code",
   "execution_count": null,
   "metadata": {},
   "outputs": [],
   "source": [
    "#These 2 charts are plotting the cloudiness at each latitude. There doesn't seem to be much correlation between latutude and clouds except a little bit in the nothern hemisphere where it gets slightly more cloudy in higher latitudes."
   ]
  },
  {
   "cell_type": "markdown",
   "metadata": {},
   "source": [
    "####  Northern Hemisphere - Wind Speed (mph) vs. Latitude Linear Regression"
   ]
  },
  {
   "cell_type": "code",
   "execution_count": 42,
   "metadata": {},
   "outputs": [
    {
     "name": "stdout",
     "output_type": "stream",
     "text": [
      "2       8.572701\n",
      "4      10.189430\n",
      "5       8.097616\n",
      "6       9.187789\n",
      "7       8.806897\n",
      "         ...    \n",
      "561     8.103278\n",
      "562     9.774053\n",
      "563     9.671624\n",
      "567     7.548412\n",
      "569     9.602652\n",
      "Name: Latitude, Length: 382, dtype: float64\n",
      "y = 0.05x +6.41\n",
      "The r-squared is: 0.02676811097411736\n"
     ]
    },
    {
     "data": {
      "image/png": "[encoded data removed]",
      "text/plain": [
       "<Figure size 432x288 with 1 Axes>"
      ]
     },
     "metadata": {
      "needs_background": "light"
     },
     "output_type": "display_data"
    },
    {
     "data": {
      "text/plain": [
       "<Figure size 432x288 with 0 Axes>"
      ]
     },
     "metadata": {},
     "output_type": "display_data"
    }
   ],
   "source": [
    "x_values = NorthHemi_df['Latitude']\n",
    "y_values = NorthHemi_df['WindSpeed']\n",
    "\n",
    "(slope, intercept, rvalue, pvalue, stderr) = linregress(x_values, y_values)\n",
    "\n",
    "# Get regression values\n",
    "regress_values = x_values * slope + intercept\n",
    "print(regress_values)\n",
    "\n",
    "line_eq = \"y = \" + str(round(slope,2)) + \"x +\" + str(round(intercept,2))\n",
    "print(line_eq)\n",
    "\n",
    "plt.scatter(x_values,y_values)\n",
    "plt.plot(x_values,regress_values,\"r-\")\n",
    "\n",
    "# Label plot and annotate the line equation\n",
    "plt.xlabel('Latitude')\n",
    "plt.ylabel('WindSpeed (mph)')\n",
    "plt.annotate(line_eq,(50,35),fontsize=15,color=\"red\")\n",
    "#plt.annotate lets you put text in graph\n",
    "\n",
    "# Print r square value\n",
    "print(f\"The r-squared is: {rvalue*rvalue}\")\n",
    "\n",
    "# Show plot\n",
    "plt.show()\n",
    "plt.savefig('Lat-Wind North.png')"
   ]
  },
  {
   "cell_type": "markdown",
   "metadata": {},
   "source": [
    "####  Southern Hemisphere - Wind Speed (mph) vs. Latitude Linear Regression"
   ]
  },
  {
   "cell_type": "code",
   "execution_count": 44,
   "metadata": {},
   "outputs": [
    {
     "name": "stdout",
     "output_type": "stream",
     "text": [
      "0      13.011863\n",
      "1       8.662006\n",
      "3      11.382887\n",
      "10     11.891259\n",
      "11      7.918581\n",
      "         ...    \n",
      "559     9.833174\n",
      "564     5.652774\n",
      "565     7.991010\n",
      "566     8.910725\n",
      "568     8.783632\n",
      "Name: Latitude, Length: 188, dtype: float64\n",
      "y = -0.14x +5.52\n",
      "The r-squared is: 0.08934281936951773\n"
     ]
    },
    {
     "data": {
      "image/png": "[encoded data removed]",
      "text/plain": [
       "<Figure size 432x288 with 1 Axes>"
      ]
     },
     "metadata": {
      "needs_background": "light"
     },
     "output_type": "display_data"
    },
    {
     "data": {
      "text/plain": [
       "<Figure size 432x288 with 0 Axes>"
      ]
     },
     "metadata": {},
     "output_type": "display_data"
    }
   ],
   "source": [
    "x_values = SouthHemi_df['Latitude']\n",
    "y_values = SouthHemi_df['WindSpeed']\n",
    "\n",
    "(slope, intercept, rvalue, pvalue, stderr) = linregress(x_values, y_values)\n",
    "\n",
    "# Get regression values\n",
    "regress_values = x_values * slope + intercept\n",
    "print(regress_values)\n",
    "\n",
    "line_eq = \"y = \" + str(round(slope,2)) + \"x +\" + str(round(intercept,2))\n",
    "print(line_eq)\n",
    "\n",
    "plt.scatter(x_values,y_values)\n",
    "plt.plot(x_values,regress_values,\"r-\")\n",
    "\n",
    "# Label plot and annotate the line equation\n",
    "plt.xlabel('Latitude')\n",
    "plt.ylabel('WindSpeed (mph)')\n",
    "plt.annotate(line_eq,(-30,25),fontsize=15,color=\"red\")\n",
    "#plt.annotate lets you put text in graph\n",
    "\n",
    "# Print r square value\n",
    "print(f\"The r-squared is: {rvalue*rvalue}\")\n",
    "\n",
    "# Show plot\n",
    "plt.show()\n",
    "plt.savefig('Lat-Wind South.png')"
   ]
  },
  {
   "cell_type": "code",
   "execution_count": null,
   "metadata": {},
   "outputs": [],
   "source": [
    "#These two are showing the correlation between wind speed in mph to latitude in the northern and southern hemispheres."
   ]
  },
  {
   "cell_type": "code",
   "execution_count": null,
   "metadata": {},
   "outputs": [],
   "source": [
    "#3 observations:\n",
    "#Temperature increases as latitude gets closer to the equator.\n",
    "#Humidity seems to increase in general the farther north you go.\n",
    "#Within the limits set, wind does not seem to get faster than about 3 mph, with one exception at 40 and 2 at 35.\n"
   ]
  }
 ],
 "metadata": {
  "anaconda-cloud": {},
  "kernel_info": {
   "name": "python3"
  },
  "kernelspec": {
   "display_name": "Python 3",
   "language": "python",
   "name": "python3"
  },
  "language_info": {
   "codemirror_mode": {
    "name": "ipython",
    "version": 3
   },
   "file_extension": ".py",
   "mimetype": "text/x-python",
   "name": "python",
   "nbconvert_exporter": "python",
   "pygments_lexer": "ipython3",
   "version": "3.7.4"
  },
  "latex_envs": {
   "LaTeX_envs_menu_present": true,
   "autoclose": false,
   "autocomplete": true,
   "bibliofile": "biblio.bib",
   "cite_by": "apalike",
   "current_citInitial": 1,
   "eqLabelWithNumbers": true,
   "eqNumInitial": 1,
   "hotkeys": {
    "equation": "Ctrl-E",
    "itemize": "Ctrl-I"
   },
   "labels_anchors": false,
   "latex_user_defs": false,
   "report_style_numbering": false,
   "user_envs_cfg": false
  },
  "nteract": {
   "version": "0.12.3"
  }
 },
 "nbformat": 4,
 "nbformat_minor": 2
}

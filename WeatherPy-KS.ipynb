{
 "cells": [
  {
   "cell_type": "markdown",
   "metadata": {},
   "source": [
    "# WeatherPy\n",
    "----\n",
    "\n",
    "#### Note\n",
    "* Instructions have been included for each segment. You do not have to follow them exactly, but they are included to help you think through the steps."
   ]
  },
  {
   "cell_type": "code",
   "execution_count": 2,
   "metadata": {
    "scrolled": true
   },
   "outputs": [],
   "source": [
    "# Dependencies and Setup\n",
    "import matplotlib.pyplot as plt\n",
    "import pandas as pd\n",
    "import numpy as np\n",
    "import requests\n",
    "import time\n",
    "from scipy.stats import linregress\n",
    "\n",
    "\n",
    "# Import API key\n",
    "from api_keys import weather_api_key\n",
    "\n",
    "# Incorporated citipy to determine city based on latitude and longitude\n",
    "from citipy import citipy\n",
    "\n",
    "# Output File (CSV)\n",
    "#output_data_file = \"output_data/cities.csv\"\n",
    "\n",
    "# Range of latitudes and longitudes\n",
    "lat_range = (-90, 90)\n",
    "lng_range = (-180, 180)\n",
    "\n",
    "url = \"http://api.openweathermap.org/data/2.5/weather?\"\n",
    "units = \"imperial\"\n",
    "query_url = f\"{url}appid={weather_api_key}&units={units}&q=\""
   ]
  },
  {
   "cell_type": "markdown",
   "metadata": {},
   "source": [
    "## Generate Cities List"
   ]
  },
  {
   "cell_type": "code",
   "execution_count": 3,
   "metadata": {},
   "outputs": [
    {
     "data": {
      "text/plain": [
       "599"
      ]
     },
     "execution_count": 3,
     "metadata": {},
     "output_type": "execute_result"
    }
   ],
   "source": [
    "# List for holding lat_lngs and cities\n",
    "lat_lngs = []\n",
    "cities = []\n",
    "\n",
    "# Create a set of random lat and lng combinations\n",
    "lats = np.random.uniform(low=-90.000, high=90.000, size=1500)\n",
    "lngs = np.random.uniform(low=-180.000, high=180.000, size=1500)\n",
    "lat_lngs = zip(lats, lngs)\n",
    "\n",
    "# Identify nearest city for each lat, lng combination\n",
    "for lat_lng in lat_lngs:\n",
    "    city = citipy.nearest_city(lat_lng[0], lat_lng[1]).city_name\n",
    "    \n",
    "    # If the city is unique, then add it to a our cities list\n",
    "    if city not in cities:\n",
    "        cities.append(city)\n",
    "\n",
    "# Print the city count to confirm sufficient count\n",
    "len(cities)"
   ]
  },
  {
   "cell_type": "markdown",
   "metadata": {},
   "source": [
    "### Perform API Calls\n",
    "* Perform a weather check on each city using a series of successive API calls.\n",
    "* Include a print log of each city as it'sbeing processed (with the city number and city name).\n"
   ]
  },
  {
   "cell_type": "code",
   "execution_count": 4,
   "metadata": {},
   "outputs": [
    {
     "name": "stdout",
     "output_type": "stream",
     "text": [
      "processing City vaini CityID: 4032243\n",
      "processing City maragogi CityID: 3395458\n",
      "processing City ushuaia CityID: 3833367\n",
      "processing City fortuna CityID: 5563839\n",
      "processing City kalispell CityID: 5660340\n",
      "processing City arraial do cabo CityID: 3471451\n",
      "processing City iznik CityID: 745026\n",
      "processing City constitucion CityID: 3893726\n",
      "processing City vostok CityID: 2013279\n",
      "processing City bluff CityID: 2206939\n",
      "processing City havre-saint-pierre CityID: 5972291\n",
      "processing City port elizabeth CityID: 964420\n",
      "processing City nome CityID: 5870133\n",
      "processing City puerto ayora CityID: 3652764\n",
      "processing City saskylakh CityID: 2017155\n",
      "processing City mataura CityID: 6201424\n",
      "processing City ikungi CityID: 159267\n",
      "processing City jimo CityID: 1805757\n",
      "processing City punta arenas CityID: 3874787\n",
      "processing City cabo san lucas CityID: 3985710\n",
      "processing City kamaishi CityID: 2112444\n",
      "processing City kapaa CityID: 5848280\n",
      "processing City upernavik CityID: 3418910\n",
      "processing City jamestown CityID: 5122534\n",
      "processing City butaritari CityID: 2110227\n",
      "processing City busselton CityID: 2075265\n",
      "processing City albany CityID: 5106841\n",
      "processing City korla CityID: 1529376\n",
      "processing City sakakah CityID: 102527\n",
      "processing City myitkyina CityID: 1307741\n",
      "processing City honiara CityID: 2108502\n",
      "processing City cockburn town CityID: 3576994\n",
      "processing City cidreira CityID: 3466165\n",
      "processing City faya CityID: 110690\n",
      "processing City souillac CityID: 933995\n",
      "processing City hermanus CityID: 3366880\n",
      "processing City palmer CityID: 4946620\n",
      "processing City leningradskiy CityID: 2123814\n",
      "processing City marawi CityID: 1701054\n",
      "processing City georgetown CityID: 1735106\n",
      "processing City east london CityID: 1006984\n",
      "processing City bara CityID: 2347758\n",
      "processing City mar del plata CityID: 3430863\n",
      "processing City carnarvon CityID: 2074865\n",
      "processing City rikitea CityID: 4030556\n",
      "processing City talnakh CityID: 1490256\n",
      "processing City olinda CityID: 3393536\n",
      "processing City pangody CityID: 1495626\n",
      "processing City ancud CityID: 3899695\n",
      "processing City brainerd CityID: 5019116\n",
      "processing City arona CityID: 2521582\n",
      "processing City chahal CityID: 3598825\n",
      "processing City meiringen CityID: 2659700\n",
      "processing City toritama CityID: 3386264\n",
      "processing City mount gambier CityID: 2156643\n",
      "processing City new norfolk CityID: 2155415\n",
      "processing City rehoboth CityID: 3353540\n",
      "processing City guerrero negro CityID: 4021858\n",
      "processing City qaanaaq CityID: 3831208\n",
      "processing City presidencia roque saenz pena CityID: 3840300\n",
      "processing City gueugnon CityID: 3014334\n",
      "processing City kruisfontein CityID: 986717\n",
      "processing City batagay-alyta CityID: 2027042\n",
      "processing City yellowknife CityID: 6185377\n",
      "processing City alice springs CityID: 2077895\n",
      "processing City deputatskiy CityID: 2028164\n",
      "processing City san policarpo CityID: 1688696\n",
      "processing City nikolskoye CityID: 546105\n",
      "processing City dhidhdhoo CityID: 1337612\n",
      "processing City kipini CityID: 191675\n",
      "processing City mimoso do sul CityID: 3457161\n",
      "processing City hami CityID: 1529484\n",
      "processing City high level CityID: 5975004\n",
      "processing City zhigansk CityID: 2012530\n",
      "processing City bambous virieux CityID: 1106677\n",
      "processing City lorengau CityID: 2092164\n",
      "processing City kahului CityID: 5847411\n",
      "processing City asfi CityID: 2537881\n",
      "processing City airai CityID: 1651810\n",
      "processing City lebu CityID: 3883457\n",
      "processing City awbari CityID: 2219235\n",
      "processing City ribeira grande CityID: 3372707\n",
      "processing City port-cartier CityID: 6111696\n",
      "processing City faanui CityID: 4034551\n",
      "processing City skjervoy CityID: 777682\n",
      "processing City tukrah CityID: 88834\n",
      "processing City oranjemund CityID: 3354071\n",
      "processing City thompson CityID: 6165406\n",
      "processing City saboya CityID: 3670447\n",
      "processing City la rioja CityID: 3336897\n",
      "processing City chapais CityID: 5919850\n",
      "processing City beringovskiy CityID: 2126710\n",
      "processing City victoria CityID: 1819729\n",
      "processing City chokurdakh CityID: 2126123\n",
      "processing City khatanga CityID: 2022572\n",
      "processing City raudeberg CityID: 3146487\n",
      "processing City sechura CityID: 3691954\n",
      "processing City torbay CityID: 6167817\n",
      "processing City huntsville CityID: 4068590\n",
      "processing City chernaya kholunitsa CityID: 568954\n",
      "processing City khorixas CityID: 3356213\n",
      "processing City bredasdorp CityID: 1015776\n",
      "processing City port alfred CityID: 964432\n",
      "processing City clyde river CityID: 5924351\n",
      "processing City hilo CityID: 5855927\n",
      "processing City biak CityID: 1637001\n",
      "processing City dikson CityID: 1507390\n",
      "processing City kangaatsiaq CityID: 3422683\n",
      "processing City hambantota CityID: 1244926\n",
      "processing City quelimane CityID: 1028434\n",
      "processing City koutiala CityID: 2454268\n",
      "processing City katsuura CityID: 2112309\n",
      "processing City cape town CityID: 3369157\n",
      "processing City baft CityID: 390054\n",
      "processing City freeport CityID: 5117949\n",
      "processing City pishva CityID: 120972\n",
      "processing City bridlington CityID: 2654728\n",
      "processing City brae CityID: 2654970\n",
      "processing City saint-philippe CityID: 935215\n",
      "processing City uruguaiana CityID: 3445679\n",
      "processing City codrington CityID: 2171099\n",
      "processing City barrow CityID: 5880054\n",
      "processing City narsaq CityID: 3421719\n",
      "processing City isangel CityID: 2136825\n",
      "processing City waynesville CityID: 4497868\n",
      "processing City atuona CityID: 4020109\n",
      "processing City zhezkazgan CityID: 1516589\n",
      "processing City shima CityID: 1795166\n",
      "processing City lagoa CityID: 3372964\n",
      "processing City baniachang CityID: 1185274\n",
      "processing City gizo CityID: 2108857\n",
      "processing City kodiak CityID: 5866583\n",
      "processing City atar CityID: 2381334\n",
      "processing City killarney CityID: 2963370\n",
      "processing City nanortalik CityID: 3421765\n",
      "processing City klaksvik CityID: 2618795\n",
      "processing City warmbad CityID: 3352263\n",
      "processing City ponta do sol CityID: 2264557\n",
      "processing City novopokrovka CityID: 699328\n",
      "processing City avarua CityID: 4035715\n",
      "processing City bengkulu CityID: 1649150\n",
      "processing City lompoc CityID: 5367788\n",
      "processing City yakymivka CityID: 713743\n",
      "processing City tuatapere CityID: 2180815\n",
      "processing City yumen CityID: 1528998\n",
      "processing City aripuana CityID: 3665202\n",
      "processing City kirakira CityID: 2178753\n",
      "processing City vrangel CityID: 2013258\n",
      "processing City srednekolymsk CityID: 2121025\n",
      "processing City luderitz CityID: 3355672\n",
      "processing City concarneau CityID: 3024035\n",
      "processing City itoman CityID: 1861280\n",
      "processing City turayf CityID: 101312\n",
      "processing City tezu CityID: 1254709\n",
      "processing City kasongo-lunda CityID: 2315026\n",
      "processing City bonavista CityID: 5905393\n",
      "processing City oktyabrskiy CityID: 515879\n",
      "processing City hithadhoo CityID: 1282256\n",
      "processing City arvika CityID: 2725123\n",
      "processing City tsabong CityID: 932987\n",
      "processing City caravelas CityID: 3466980\n",
      "processing City college CityID: 5859699\n",
      "processing City cabatuan CityID: 1721720\n",
      "processing City chuy CityID: 3443061\n",
      "processing City copiapo CityID: 3893656\n",
      "processing City lasa CityID: 3175096\n",
      "processing City kedougou CityID: 2250645\n",
      "processing City adrar CityID: 2381972\n",
      "processing City lubao CityID: 1705441\n",
      "processing City charters towers CityID: 2171722\n",
      "processing City hobyo CityID: 57000\n",
      "processing City el paso CityID: 5520993\n",
      "processing City longyearbyen CityID: 2729907\n",
      "processing City port hardy CityID: 6111862\n",
      "processing City norman wells CityID: 6089245\n",
      "processing City berlevag CityID: 780687\n",
      "processing City golden gate CityID: 4156920\n",
      "processing City palembang CityID: 1633070\n",
      "processing City charlestown CityID: 2171766\n",
      "processing City umiray CityID: 1680312\n",
      "processing City camacha CityID: 2270385\n",
      "processing City sarangani CityID: 1687186\n",
      "processing City harij CityID: 1270343\n",
      "processing City srandakan CityID: 1626493\n",
      "processing City kodinar CityID: 1266397\n",
      "processing City jumla CityID: 1283285\n",
      "processing City port-gentil CityID: 2396518\n",
      "processing City sarakhs CityID: 1159716\n",
      "processing City bolobo CityID: 2316748\n",
      "processing City ballina CityID: 2177069\n",
      "processing City coahuayana CityID: 4013679\n",
      "processing City porto novo CityID: 2392087\n",
      "processing City makat CityID: 608872\n",
      "processing City lashio CityID: 1314759\n",
      "processing City poum CityID: 2138555\n",
      "processing City iqaluit CityID: 5983720\n",
      "processing City praia da vitoria CityID: 3372760\n",
      "processing City xining CityID: 1788852\n",
      "processing City xichang CityID: 1789647\n"
     ]
    },
    {
     "name": "stdout",
     "output_type": "stream",
     "text": [
      "processing City palauig CityID: 1696188\n",
      "processing City husavik CityID: 2629833\n",
      "processing City aklavik CityID: 5882953\n",
      "processing City mama CityID: 2020313\n",
      "processing City tynda CityID: 2014718\n",
      "processing City flinders CityID: 6255012\n",
      "processing City inza CityID: 556283\n",
      "processing City biloela CityID: 2175819\n",
      "processing City severo-kurilsk CityID: 2121385\n",
      "processing City shache CityID: 1280037\n",
      "processing City anadyr CityID: 2127202\n",
      "processing City komsomolskiy CityID: 1513491\n",
      "processing City saldanha CityID: 3361934\n",
      "processing City ust-maya CityID: 2013918\n",
      "processing City quesnel CityID: 6115187\n",
      "processing City archidona CityID: 2521673\n",
      "processing City luena CityID: 3347719\n",
      "processing City horsham CityID: 2646557\n",
      "processing City kloulklubed CityID: 7671223\n",
      "processing City gat CityID: 293842\n",
      "processing City esperance CityID: 2071860\n",
      "processing City tucuma CityID: 3385980\n",
      "processing City juneau CityID: 5554072\n",
      "processing City coquimbo CityID: 3893629\n",
      "processing City dunedin CityID: 2191562\n",
      "processing City jamsa CityID: 656083\n",
      "processing City olafsvik CityID: 3414079\n",
      "processing City awjilah CityID: 88533\n",
      "processing City hamilton CityID: 4513583\n",
      "processing City berbera CityID: 64435\n",
      "processing City vilhena CityID: 3924679\n",
      "processing City litovko CityID: 2020738\n",
      "processing City gorom-gorom CityID: 2360372\n",
      "processing City vila franca do campo CityID: 3372472\n",
      "processing City cumbitara CityID: 3685428\n",
      "processing City peniche CityID: 2264923\n",
      "processing City tasiilaq CityID: 3424607\n",
      "processing City kota belud CityID: 1736660\n",
      "processing City ilula CityID: 159179\n",
      "processing City aksu CityID: 1529660\n",
      "processing City orikum CityID: 3184575\n",
      "processing City ixtapa CityID: 4004293\n",
      "processing City grand gaube CityID: 934479\n",
      "processing City samarai CityID: 2132606\n",
      "processing City assai CityID: 3471377\n",
      "processing City filadelfia CityID: 4560349\n",
      "processing City tuktoyaktuk CityID: 6170031\n",
      "processing City nexo CityID: 2616504\n",
      "processing City moose factory CityID: 6078372\n",
      "processing City sagua la grande CityID: 3541440\n",
      "processing City tari CityID: 2322495\n",
      "processing City bereznik CityID: 577240\n",
      "processing City kieta CityID: 2094027\n",
      "processing City manokwari CityID: 1636308\n",
      "processing City buinsk CityID: 571155\n",
      "processing City mareeba CityID: 2158767\n",
      "processing City arlit CityID: 2447513\n",
      "processing City mandalgovi CityID: 2030065\n",
      "processing City matara CityID: 1235846\n",
      "processing City kamenka CityID: 553766\n",
      "processing City conde CityID: 3385077\n",
      "processing City port lincoln CityID: 2063036\n",
      "processing City tanda CityID: 1255024\n",
      "processing City lake jackson CityID: 4704628\n",
      "processing City mali CityID: 2417886\n",
      "processing City paamiut CityID: 3421193\n",
      "processing City oktyabrskoye CityID: 515805\n",
      "processing City mehamn CityID: 778707\n",
      "processing City henties bay CityID: 3356832\n",
      "processing City beniganj CityID: 1276463\n",
      "processing City santa isabel do rio negro CityID: 3662489\n",
      "processing City kavieng CityID: 2094342\n",
      "processing City udachnyy CityID: 2014624\n",
      "processing City padang CityID: 1633419\n",
      "processing City pacific grove CityID: 5380437\n",
      "processing City prescott CityID: 5309842\n",
      "processing City christchurch CityID: 2192362\n",
      "processing City castro CityID: 3466704\n",
      "processing City taonan CityID: 2034497\n",
      "processing City ylivieska CityID: 630769\n",
      "processing City san cristobal CityID: 3628473\n",
      "processing City baijiantan CityID: 1529626\n",
      "processing City eyl CityID: 60019\n",
      "processing City blue springs CityID: 4377664\n",
      "processing City antofagasta CityID: 3899539\n",
      "processing City rawson CityID: 3839307\n",
      "processing City catamarca CityID: 3837702\n",
      "processing City drovyanaya CityID: 2024848\n",
      "processing City santa rosa CityID: 1687894\n",
      "processing City coihueco CityID: 3894406\n",
      "processing City doha CityID: 290030\n",
      "processing City hobart CityID: 2163355\n",
      "processing City sola CityID: 2134814\n",
      "processing City gravdal CityID: 3155152\n",
      "processing City senanga CityID: 898947\n",
      "processing City warri CityID: 2319133\n",
      "processing City ascension CityID: 4315067\n",
      "processing City erenhot CityID: 2037485\n",
      "processing City cayenne CityID: 3382160\n",
      "processing City bilma CityID: 2446796\n",
      "processing City jesup CityID: 4202810\n",
      "processing City mahebourg CityID: 934322\n",
      "processing City salalah CityID: 286621\n",
      "processing City pokhara CityID: 1282898\n",
      "processing City goksun CityID: 314188\n",
      "processing City rodos CityID: 400666\n",
      "processing City cherskiy CityID: 2126199\n",
      "processing City honningsvag CityID: 779554\n",
      "processing City kalmunai CityID: 1242110\n",
      "processing City oldenburg CityID: 2857458\n",
      "processing City bethel CityID: 5282297\n",
      "processing City lata CityID: 2738381\n",
      "processing City dudinka CityID: 1507116\n",
      "processing City sao joao da barra CityID: 3448903\n",
      "processing City sitka CityID: 5557293\n",
      "processing City emerald CityID: 2167426\n",
      "processing City provideniya CityID: 4031574\n",
      "processing City newala CityID: 877532\n",
      "processing City areka CityID: 343593\n",
      "processing City road town CityID: 3577430\n",
      "processing City muzhi CityID: 1498161\n",
      "processing City koslan CityID: 544084\n",
      "processing City enshi CityID: 1811720\n",
      "processing City charkhi dadri CityID: 1274571\n",
      "processing City huarmey CityID: 3939168\n",
      "processing City borodino CityID: 1508943\n",
      "processing City candolim CityID: 1274989\n",
      "processing City ganzhou CityID: 1810637\n",
      "processing City rexburg CityID: 5605242\n",
      "processing City port blair CityID: 1259385\n",
      "processing City tiksi CityID: 2015306\n",
      "processing City maarianhamina CityID: 3041732\n",
      "processing City fonte boa CityID: 6319315\n",
      "processing City niteroi CityID: 3456283\n",
      "processing City sandakan CityID: 1734052\n",
      "processing City saint anthony CityID: 5044290\n",
      "processing City pauini CityID: 3662927\n",
      "processing City esfarayen CityID: 135298\n",
      "processing City dukat CityID: 2125906\n",
      "processing City lumphat CityID: 1830377\n",
      "processing City pevek CityID: 2122090\n",
      "processing City ternate CityID: 1624041\n",
      "processing City hay river CityID: 5972762\n",
      "processing City vao CityID: 2137773\n",
      "processing City chengde CityID: 2038087\n",
      "processing City hofn CityID: 2630299\n",
      "processing City gasa CityID: 281133\n",
      "processing City shingu CityID: 1847947\n",
      "processing City bassano CityID: 5894642\n",
      "processing City agadez CityID: 2448083\n",
      "processing City holetown CityID: 3373790\n",
      "processing City amberley CityID: 4505215\n",
      "processing City buin CityID: 3897774\n",
      "processing City sao filipe CityID: 3374210\n",
      "processing City van buren CityID: 4134716\n",
      "processing City puerto escondido CityID: 3520994\n",
      "processing City yurgamysh CityID: 1485721\n",
      "processing City amapa CityID: 3407762\n",
      "processing City umm kaddadah CityID: 364933\n",
      "processing City san patricio CityID: 3985168\n",
      "processing City rabaul CityID: 2087894\n",
      "processing City nelson CityID: 2186280\n",
      "processing City araouane CityID: 2460954\n",
      "processing City aleksandrovskiy zavod CityID: 2027933\n",
      "processing City huadian CityID: 2036776\n",
      "processing City boone CityID: 4377925\n",
      "processing City nipawin CityID: 6088469\n",
      "processing City ilulissat CityID: 3423146\n",
      "processing City surt CityID: 2210554\n",
      "processing City pisco CityID: 3932145\n",
      "processing City iquitos CityID: 3696183\n",
      "processing City nadym CityID: 1498087\n",
      "processing City saint-pierre CityID: 935214\n",
      "processing City karratha CityID: 6620339\n",
      "processing City belmonte CityID: 3470137\n",
      "processing City boa viagem CityID: 3405616\n",
      "processing City lewistown CityID: 5197850\n",
      "processing City mokhsogollokh CityID: 2019867\n",
      "processing City alofi CityID: 4036284\n",
      "processing City hervey bay CityID: 2146219\n",
      "processing City kudahuvadhoo CityID: 1337607\n",
      "processing City gigmoto CityID: 1712961\n",
      "processing City north bend CityID: 5742974\n",
      "processing City maragheh CityID: 140889\n",
      "processing City tuy hoa CityID: 1563281\n",
      "processing City monte santo CityID: 3456820\n",
      "processing City yar-sale CityID: 1486321\n",
      "processing City erzin CityID: 296852\n",
      "processing City san jose del guaviare CityID: 3828545\n",
      "processing City inyonga CityID: 159134\n",
      "processing City carora CityID: 3646487\n",
      "processing City yinchuan CityID: 1786657\n",
      "processing City inongo CityID: 2315417\n",
      "processing City komsomolets CityID: 1522348\n",
      "processing City ostrovnoy CityID: 556268\n",
      "processing City khomutovo CityID: 2022342\n",
      "processing City novo aripuana CityID: 3663142\n",
      "processing City semey CityID: 1519422\n",
      "processing City seymchan CityID: 2121373\n",
      "processing City tofield CityID: 6167254\n",
      "processing City lucapa CityID: 145724\n"
     ]
    },
    {
     "name": "stdout",
     "output_type": "stream",
     "text": [
      "processing City corn island CityID: 3620266\n",
      "processing City birao CityID: 240210\n",
      "processing City saint george CityID: 5546220\n",
      "processing City kaliua CityID: 158514\n",
      "processing City kargasok CityID: 1504382\n",
      "processing City inhambane CityID: 1045114\n",
      "processing City avera CityID: 4231997\n",
      "processing City saint-francois CityID: 2980080\n",
      "processing City namibe CityID: 3347019\n",
      "processing City bloomfield CityID: 5095779\n",
      "processing City waipawa CityID: 2206874\n",
      "processing City egvekinot CityID: 4031742\n",
      "processing City sparta CityID: 5273927\n",
      "processing City laguna CityID: 5364271\n",
      "processing City xuanhua CityID: 2033574\n",
      "processing City vardo CityID: 777019\n",
      "processing City madimba CityID: 878141\n",
      "processing City yarada CityID: 1252783\n",
      "processing City dingle CityID: 1714733\n",
      "processing City praia CityID: 3374333\n",
      "processing City chunskiy CityID: 1507636\n",
      "processing City marsa matruh CityID: 352733\n",
      "processing City grindavik CityID: 3416888\n",
      "processing City stykkisholmur CityID: 3412888\n",
      "processing City ovalle CityID: 3877918\n",
      "processing City vagur CityID: 2610806\n",
      "processing City siguiri CityID: 2415702\n",
      "processing City fayetteville CityID: 4466033\n",
      "processing City makakilo city CityID: 5850554\n",
      "processing City fernie CityID: 5952370\n",
      "processing City shimoda CityID: 1852357\n",
      "processing City bosaso CityID: 64013\n",
      "processing City prince george CityID: 6113365\n",
      "processing City hukuntsi CityID: 933726\n",
      "processing City gamboula CityID: 2386756\n",
      "processing City sur CityID: 286245\n",
      "processing City fort nelson CityID: 5955902\n",
      "processing City qaqortoq CityID: 3420846\n",
      "processing City broken hill CityID: 2173911\n",
      "processing City sayansk CityID: 2055166\n",
      "processing City atambua CityID: 1651103\n",
      "processing City puerto colombia CityID: 3671497\n",
      "processing City bud CityID: 4255151\n",
      "processing City maceio CityID: 3395981\n",
      "processing City shubarshi CityID: 608270\n",
      "processing City tautira CityID: 4033557\n",
      "processing City sangar CityID: 2017215\n",
      "processing City bambari CityID: 240604\n",
      "processing City kavaratti CityID: 1267390\n",
      "processing City takoradi CityID: 2294915\n",
      "processing City kajaani CityID: 654901\n",
      "processing City pumiao CityID: 1798480\n",
      "processing City yaqui CityID: 3979975\n",
      "processing City zhangye CityID: 1785036\n",
      "processing City nouadhibou CityID: 2377457\n",
      "processing City flagstaff CityID: 5294810\n",
      "processing City petropavlovka CityID: 2017979\n",
      "processing City amahai CityID: 1651591\n",
      "processing City kaitangata CityID: 2208248\n",
      "processing City svetlyy CityID: 485660\n",
      "processing City fairbanks CityID: 5861897\n",
      "processing City lavrentiya CityID: 4031637\n",
      "processing City ukiah CityID: 5404476\n",
      "processing City mabaruma CityID: 3377301\n",
      "processing City yuancheng CityID: 1786110\n",
      "processing City tanout CityID: 2439155\n",
      "processing City storforshei CityID: 3145614\n",
      "processing City la ronge CityID: 6050066\n",
      "processing City sangre grande CityID: 7521944\n",
      "processing City touros CityID: 3386213\n",
      "processing City katobu CityID: 1640972\n",
      "processing City walvis bay CityID: 3359638\n",
      "processing City solnechnyy CityID: 2016307\n",
      "processing City tocopilla CityID: 3869716\n",
      "processing City tagusao CityID: 1684245\n",
      "processing City krasnaya yaruga CityID: 542571\n",
      "processing City proletarsk CityID: 504831\n",
      "processing City vila velha CityID: 3445026\n",
      "processing City san quintin CityID: 3984997\n",
      "processing City mazara del vallo CityID: 6541759\n",
      "processing City abbeville CityID: 3038789\n",
      "processing City igarka CityID: 1505991\n",
      "processing City medyn CityID: 527869\n",
      "processing City ornskoldsvik CityID: 2686469\n",
      "processing City koyelga CityID: 1502280\n",
      "processing City union CityID: 5105640\n",
      "processing City biltine CityID: 244878\n",
      "processing City beloha CityID: 1067565\n",
      "processing City valdivia CityID: 3868707\n",
      "processing City tendukheda CityID: 1254751\n",
      "processing City skelleftea CityID: 602913\n",
      "processing City den helder CityID: 2757220\n",
      "processing City champasak CityID: 1657818\n",
      "processing City uri CityID: 1253694\n",
      "processing City svetlogorsk CityID: 10722858\n",
      "processing City yuanli CityID: 1669401\n",
      "processing City byron bay CityID: 2172880\n",
      "processing City ende CityID: 1644932\n",
      "processing City atasu CityID: 1526041\n",
      "processing City broome CityID: 5110365\n",
      "processing City bogo CityID: 1724435\n",
      "processing City gorin CityID: 2023943\n",
      "processing City hasaki CityID: 2112802\n",
      "processing City pathein CityID: 1328421\n",
      "processing City fontem CityID: 2231564\n",
      "processing City melilla CityID: 2513947\n",
      "processing City lieksa CityID: 648090\n",
      "processing City slave lake CityID: 6149374\n",
      "processing City maxixe CityID: 1039536\n",
      "processing City marsh harbour CityID: 3571913\n",
      "processing City talca CityID: 3870294\n",
      "processing City terra santa CityID: 3386467\n",
      "processing City buraydah CityID: 107304\n",
      "processing City beyneu CityID: 610298\n",
      "processing City bima CityID: 1648759\n",
      "processing City wodonga CityID: 2143285\n",
      "processing City ahipara CityID: 2194098\n",
      "processing City somcuta mare CityID: 666475\n",
      "processing City balkanabat CityID: 161616\n",
      "processing City linhares CityID: 3458498\n",
      "processing City san joaquin CityID: 3628267\n",
      "processing City sinop CityID: 739598\n",
      "processing City lobatse CityID: 933521\n",
      "processing City chillicothe CityID: 4828890\n",
      "processing City portobelo CityID: 3702577\n",
      "processing City tura CityID: 1254046\n",
      "processing City bathsheba CityID: 3374083\n",
      "processing City tondano CityID: 1623424\n",
      "processing City praxedis guerrero CityID: 3974771\n",
      "processing City moissac CityID: 2993586\n",
      "processing City coxim CityID: 3465228\n",
      "processing City grants CityID: 5469841\n",
      "processing City yulara CityID: 6355222\n",
      "processing City geraldton CityID: 2070998\n",
      "processing City san luis de la paz CityID: 3985620\n",
      "processing City naze CityID: 1855540\n",
      "processing City navoi CityID: 1513131\n",
      "processing City panjakent CityID: 1220798\n",
      "processing City panubigan CityID: 1958647\n",
      "processing City comodoro rivadavia CityID: 3860443\n",
      "processing City buchanan CityID: 2278158\n",
      "processing City nuuk CityID: 3421319\n",
      "processing City san jeronimo CityID: 3929611\n",
      "processing City aykhal CityID: 2027296\n",
      "processing City kurumkan CityID: 2021188\n",
      "processing City prince rupert CityID: 6113406\n",
      "processing City bubaque CityID: 2374583\n",
      "processing City mantua CityID: 3174050\n",
      "processing City saiki CityID: 1853237\n",
      "processing City mul CityID: 1262574\n",
      "processing City kurilsk CityID: 2123979\n",
      "processing City shelburne CityID: 6145890\n",
      "processing City krasnoarmeyskoye CityID: 824366\n"
     ]
    }
   ],
   "source": [
    "Temp = []\n",
    "MaxTemp = []\n",
    "Humidity = []\n",
    "Cloudiness = []\n",
    "WindSpeed = []\n",
    "Latitude = []\n",
    "Longitude = []\n",
    "CityID = []\n",
    "City = []\n",
    "LatLong = []\n",
    "CountryCode = []\n",
    "\n",
    "\n",
    "for city in cities:\n",
    "    response = requests.get(query_url + city).json()\n",
    "    if response['cod'] == 200:\n",
    "        Latitude.append(response['coord']['lat'])\n",
    "        Longitude.append(response['coord']['lon'])\n",
    "        Humidity.append(response['main']['humidity'])\n",
    "        Temp.append(response['main']['temp'])\n",
    "        Cloudiness.append(response['clouds']['all'])\n",
    "        WindSpeed.append(response['wind']['speed'])\n",
    "        CityID.append(response['id'])\n",
    "        City.append(response['name'])\n",
    "        MaxTemp.append(response['main']['temp_max'])\n",
    "        LatLong.append(response['coord'])\n",
    "        CountryCode.append(response['sys']['country'])\n",
    "        print(f\"processing City {city} CityID: {response['id']}\")\n",
    "        \n",
    "    "
   ]
  },
  {
   "cell_type": "code",
   "execution_count": 5,
   "metadata": {},
   "outputs": [],
   "source": [
    "### Convert Raw Data to DataFrame\n",
    "# Export the city data into a .csv.\n",
    "# Display the DataFrame\n",
    "city_df = pd.DataFrame({'CityID' : CityID,\n",
    "                    'City' : City,\n",
    "                    'Humidity' : Humidity,\n",
    "                    'Temp' : Temp,\n",
    "                    'Latitude' : Latitude,\n",
    "                    'Cloudiness' : Cloudiness,\n",
    "                    'WindSpeed' : WindSpeed,\n",
    "                    'MaxTemp' : MaxTemp,\n",
    "                    'Longitude' : Longitude,\n",
    "                     'LatLong' : LatLong,\n",
    "                     'CountryCode' : CountryCode\n",
    "                       })\n",
    "\n",
    "city_df\n",
    "\n",
    "city_df.to_csv('city_df.csv')"
   ]
  },
  {
   "cell_type": "markdown",
   "metadata": {},
   "source": [
    "### Plotting the Data\n",
    "* Use proper labeling of the plots using plot titles (including date of analysis) and axes labels.\n",
    "* Save the plotted figures as .pngs."
   ]
  },
  {
   "cell_type": "markdown",
   "metadata": {},
   "source": [
    "#### Latitude vs. Temperature Plot"
   ]
  },
  {
   "cell_type": "code",
   "execution_count": 6,
   "metadata": {
    "scrolled": true
   },
   "outputs": [
    {
     "data": {
      "image/png": "[encoded data removed]",
      "text/plain": [
       "<Figure size 432x288 with 1 Axes>"
      ]
     },
     "metadata": {
      "needs_background": "light"
     },
     "output_type": "display_data"
    }
   ],
   "source": [
    "x_values = city_df['Latitude']\n",
    "y_values = city_df['Temp']\n",
    "plt.scatter(x_values,y_values)\n",
    "plt.xlabel('Latitude')\n",
    "plt.ylabel('Temperature')\n",
    "plt.title('Latitude vs. Temp(f)')\n",
    "\n",
    "plt.savefig('Latitude-Temp.png', dpi=100)\n",
    "plt.show()\n",
    "\n",
    "#This scatter plot is showing the relationship between Temperature and Latititue. It shows that the temperature is highest between\n",
    "# -20 and +20 latitude, or the closer to 0 the higher the temp.\n"
   ]
  },
  {
   "cell_type": "markdown",
   "metadata": {},
   "source": [
    "#### Latitude vs. Humidity Plot"
   ]
  },
  {
   "cell_type": "code",
   "execution_count": 9,
   "metadata": {
    "scrolled": true
   },
   "outputs": [
    {
     "data": {
      "image/png": "[encoded data removed]",
      "text/plain": [
       "<Figure size 432x288 with 1 Axes>"
      ]
     },
     "metadata": {
      "needs_background": "light"
     },
     "output_type": "display_data"
    }
   ],
   "source": [
    "x_values = city_df['Latitude']\n",
    "y_values = city_df['Humidity']\n",
    "plt.scatter(x_values,y_values)\n",
    "plt.xlabel('Latitude')\n",
    "plt.ylabel('Humidity')\n",
    "plt.title('Latitude vs. Humidity(%)')\n",
    "plt.savefig('Latitude-Humidity.png')\n",
    "plt.show()\n",
    "\n",
    "#This is plotting the humidity % for each location based on it's latitude."
   ]
  },
  {
   "cell_type": "markdown",
   "metadata": {},
   "source": [
    "#### Latitude vs. Cloudiness Plot"
   ]
  },
  {
   "cell_type": "code",
   "execution_count": 10,
   "metadata": {},
   "outputs": [
    {
     "data": {
      "image/png": "[encoded data removed]",
      "text/plain": [
       "<Figure size 432x288 with 1 Axes>"
      ]
     },
     "metadata": {
      "needs_background": "light"
     },
     "output_type": "display_data"
    }
   ],
   "source": [
    "x_values = city_df['Latitude']\n",
    "y_values = city_df['Cloudiness']\n",
    "plt.scatter(x_values,y_values)\n",
    "plt.xlabel('Latitude')\n",
    "plt.ylabel('Cloudiness')\n",
    "plt.title('Latitude vs. Cloudiness(%)')\n",
    "plt.savefig('Latitude-Cloudiness(%).png')\n",
    "plt.show()\n",
    "\n",
    "#This scatter plot is showing the relationship between latitude and cloudiness, which does not seem to be linked."
   ]
  },
  {
   "cell_type": "markdown",
   "metadata": {},
   "source": [
    "#### Latitude vs. Wind Speed Plot"
   ]
  },
  {
   "cell_type": "code",
   "execution_count": 11,
   "metadata": {},
   "outputs": [
    {
     "data": {
      "image/png": "[encoded data removed]",
      "text/plain": [
       "<Figure size 432x288 with 1 Axes>"
      ]
     },
     "metadata": {
      "needs_background": "light"
     },
     "output_type": "display_data"
    }
   ],
   "source": [
    "x_values = city_df['Latitude']\n",
    "y_values = city_df['WindSpeed']\n",
    "plt.scatter(x_values,y_values)\n",
    "plt.xlabel('Latitude')\n",
    "plt.ylabel('WindSpeed')\n",
    "plt.title('Latitude vs. WindSpeed(mph)')\n",
    "plt.savefig('Latitude-WindSpeed.png')\n",
    "plt.show()\n",
    "\n",
    "#This is plotting the wind speed of each latitude."
   ]
  },
  {
   "cell_type": "markdown",
   "metadata": {},
   "source": [
    "## Linear Regression"
   ]
  },
  {
   "cell_type": "code",
   "execution_count": 12,
   "metadata": {},
   "outputs": [
    {
     "data": {
      "text/html": [
       "<div>\n",
       "<style scoped>\n",
       "    .dataframe tbody tr th:only-of-type {\n",
       "        vertical-align: middle;\n",
       "    }\n",
       "\n",
       "    .dataframe tbody tr th {\n",
       "        vertical-align: top;\n",
       "    }\n",
       "\n",
       "    .dataframe thead th {\n",
       "        text-align: right;\n",
       "    }\n",
       "</style>\n",
       "<table border=\"1\" class=\"dataframe\">\n",
       "  <thead>\n",
       "    <tr style=\"text-align: right;\">\n",
       "      <th></th>\n",
       "      <th>CityID</th>\n",
       "      <th>City</th>\n",
       "      <th>Humidity</th>\n",
       "      <th>Temp</th>\n",
       "      <th>Latitude</th>\n",
       "      <th>Cloudiness</th>\n",
       "      <th>WindSpeed</th>\n",
       "      <th>MaxTemp</th>\n",
       "      <th>Longitude</th>\n",
       "      <th>LatLong</th>\n",
       "      <th>CountryCode</th>\n",
       "    </tr>\n",
       "  </thead>\n",
       "  <tbody>\n",
       "    <tr>\n",
       "      <td>0</td>\n",
       "      <td>4032243</td>\n",
       "      <td>Vaini</td>\n",
       "      <td>78</td>\n",
       "      <td>82.40</td>\n",
       "      <td>-21.20</td>\n",
       "      <td>40</td>\n",
       "      <td>13.87</td>\n",
       "      <td>82.40</td>\n",
       "      <td>-175.20</td>\n",
       "      <td>{'lon': -175.2, 'lat': -21.2}</td>\n",
       "      <td>TO</td>\n",
       "    </tr>\n",
       "    <tr>\n",
       "      <td>1</td>\n",
       "      <td>3395458</td>\n",
       "      <td>Maragogi</td>\n",
       "      <td>81</td>\n",
       "      <td>81.70</td>\n",
       "      <td>-9.01</td>\n",
       "      <td>100</td>\n",
       "      <td>15.08</td>\n",
       "      <td>81.70</td>\n",
       "      <td>-35.22</td>\n",
       "      <td>{'lon': -35.22, 'lat': -9.01}</td>\n",
       "      <td>BR</td>\n",
       "    </tr>\n",
       "    <tr>\n",
       "      <td>2</td>\n",
       "      <td>3833367</td>\n",
       "      <td>Ushuaia</td>\n",
       "      <td>81</td>\n",
       "      <td>48.20</td>\n",
       "      <td>-54.80</td>\n",
       "      <td>75</td>\n",
       "      <td>6.93</td>\n",
       "      <td>48.20</td>\n",
       "      <td>-68.30</td>\n",
       "      <td>{'lon': -68.3, 'lat': -54.8}</td>\n",
       "      <td>AR</td>\n",
       "    </tr>\n",
       "    <tr>\n",
       "      <td>5</td>\n",
       "      <td>3471451</td>\n",
       "      <td>Arraial do Cabo</td>\n",
       "      <td>90</td>\n",
       "      <td>75.45</td>\n",
       "      <td>-22.97</td>\n",
       "      <td>100</td>\n",
       "      <td>3.09</td>\n",
       "      <td>75.45</td>\n",
       "      <td>-42.03</td>\n",
       "      <td>{'lon': -42.03, 'lat': -22.97}</td>\n",
       "      <td>BR</td>\n",
       "    </tr>\n",
       "    <tr>\n",
       "      <td>7</td>\n",
       "      <td>3893726</td>\n",
       "      <td>Constitucion</td>\n",
       "      <td>94</td>\n",
       "      <td>56.61</td>\n",
       "      <td>-35.33</td>\n",
       "      <td>59</td>\n",
       "      <td>5.23</td>\n",
       "      <td>56.61</td>\n",
       "      <td>-72.42</td>\n",
       "      <td>{'lon': -72.42, 'lat': -35.33}</td>\n",
       "      <td>CL</td>\n",
       "    </tr>\n",
       "  </tbody>\n",
       "</table>\n",
       "</div>"
      ],
      "text/plain": [
       "    CityID             City  Humidity   Temp  Latitude  Cloudiness  WindSpeed  \\\n",
       "0  4032243            Vaini        78  82.40    -21.20          40      13.87   \n",
       "1  3395458         Maragogi        81  81.70     -9.01         100      15.08   \n",
       "2  3833367          Ushuaia        81  48.20    -54.80          75       6.93   \n",
       "5  3471451  Arraial do Cabo        90  75.45    -22.97         100       3.09   \n",
       "7  3893726     Constitucion        94  56.61    -35.33          59       5.23   \n",
       "\n",
       "   MaxTemp  Longitude                         LatLong CountryCode  \n",
       "0    82.40    -175.20   {'lon': -175.2, 'lat': -21.2}          TO  \n",
       "1    81.70     -35.22   {'lon': -35.22, 'lat': -9.01}          BR  \n",
       "2    48.20     -68.30    {'lon': -68.3, 'lat': -54.8}          AR  \n",
       "5    75.45     -42.03  {'lon': -42.03, 'lat': -22.97}          BR  \n",
       "7    56.61     -72.42  {'lon': -72.42, 'lat': -35.33}          CL  "
      ]
     },
     "execution_count": 12,
     "metadata": {},
     "output_type": "execute_result"
    }
   ],
   "source": [
    "# Create Northern and Southern Hemisphere DataFrames\n",
    "NorthHemi_df = city_df[city_df['Latitude']>=0]\n",
    "SouthHemi_df = city_df[city_df['Latitude']<0]\n",
    "\n",
    "NorthHemi_df.head()\n",
    "SouthHemi_df.head()"
   ]
  },
  {
   "cell_type": "markdown",
   "metadata": {},
   "source": [
    "####  Northern Hemisphere - Max Temp vs. Latitude Linear Regression"
   ]
  },
  {
   "cell_type": "code",
   "execution_count": 13,
   "metadata": {},
   "outputs": [
    {
     "name": "stdout",
     "output_type": "stream",
     "text": [
      "3      36.885188\n",
      "4      26.984115\n",
      "6      37.106659\n",
      "8      29.211857\n",
      "10     24.339487\n",
      "         ...    \n",
      "548    46.851398\n",
      "549    63.631110\n",
      "550    30.853350\n",
      "551    32.351539\n",
      "552    21.095583\n",
      "Name: Latitude, Length: 391, dtype: float64\n",
      "y = -1.3x +89.78\n",
      "The r-squared is: 0.756019180848213\n"
     ]
    },
    {
     "data": {
      "image/png": "[encoded data removed]",
      "text/plain": [
       "<Figure size 432x288 with 1 Axes>"
      ]
     },
     "metadata": {
      "needs_background": "light"
     },
     "output_type": "display_data"
    }
   ],
   "source": [
    "x_values = NorthHemi_df['Latitude']\n",
    "y_values = NorthHemi_df['MaxTemp']\n",
    "\n",
    "(slope, intercept, rvalue, pvalue, stderr) = linregress(x_values, y_values)\n",
    "\n",
    "# Get regression values\n",
    "regress_values = x_values * slope + intercept\n",
    "print(regress_values)\n",
    "\n",
    "line_eq = \"y = \" + str(round(slope,2)) + \"x +\" + str(round(intercept,2))\n",
    "print(line_eq)\n",
    "\n",
    "plt.scatter(x_values,y_values)\n",
    "plt.plot(x_values,regress_values,\"r-\")\n",
    "\n",
    "# Label plot and annotate the line equation\n",
    "plt.xlabel('Latitude')\n",
    "plt.ylabel('Max Temperature')\n",
    "plt.annotate(line_eq,(-1,0),fontsize=15,color=\"red\")\n",
    "#plt.annotate lets you put text in graph\n",
    "\n",
    "# Print r square value\n",
    "print(f\"The r-squared is: {rvalue*rvalue}\")\n",
    "\n",
    "# Show plot\n",
    "\n",
    "plt.savefig('Lat-Temp North.png')\n",
    "plt.show()"
   ]
  },
  {
   "cell_type": "markdown",
   "metadata": {},
   "source": [
    "####  Southern Hemisphere - Max Temp vs. Latitude Linear Regression"
   ]
  },
  {
   "cell_type": "code",
   "execution_count": 14,
   "metadata": {},
   "outputs": [
    {
     "name": "stdout",
     "output_type": "stream",
     "text": [
      "0      74.455559\n",
      "1      78.355405\n",
      "2      63.706188\n",
      "5      73.889297\n",
      "7      69.935064\n",
      "         ...    \n",
      "530    75.316148\n",
      "532    73.163075\n",
      "533    72.033751\n",
      "539    66.563089\n",
      "542    77.414835\n",
      "Name: Latitude, Length: 162, dtype: float64\n",
      "y = 0.32x +81.24\n",
      "The r-squared is: 0.1664752330414298\n"
     ]
    },
    {
     "data": {
      "image/png": "[encoded data removed]",
      "text/plain": [
       "<Figure size 432x288 with 1 Axes>"
      ]
     },
     "metadata": {
      "needs_background": "light"
     },
     "output_type": "display_data"
    },
    {
     "data": {
      "text/plain": [
       "<Figure size 432x288 with 0 Axes>"
      ]
     },
     "metadata": {},
     "output_type": "display_data"
    }
   ],
   "source": [
    "x_values = SouthHemi_df['Latitude']\n",
    "y_values = SouthHemi_df['MaxTemp']\n",
    "\n",
    "(slope, intercept, rvalue, pvalue, stderr) = linregress(x_values, y_values)\n",
    "\n",
    "# Get regression values\n",
    "regress_values = x_values * slope + intercept\n",
    "print(regress_values)\n",
    "\n",
    "line_eq = \"y = \" + str(round(slope,2)) + \"x +\" + str(round(intercept,2))\n",
    "print(line_eq)\n",
    "\n",
    "plt.scatter(x_values,y_values)\n",
    "plt.plot(x_values,regress_values,\"r-\")\n",
    "\n",
    "# Label plot and annotate the line equation\n",
    "plt.xlabel('Latitude')\n",
    "plt.ylabel('Max Temperature')\n",
    "plt.annotate(line_eq,(-30,50),fontsize=15,color=\"red\")\n",
    "#plt.annotate lets you put text in graph\n",
    "\n",
    "# Print r square value\n",
    "print(f\"The r-squared is: {rvalue*rvalue}\")\n",
    "\n",
    "# Show plot\n",
    "plt.show()\n",
    "plt.savefig('Lat-Temp South.png', dpi=100)\n"
   ]
  },
  {
   "cell_type": "code",
   "execution_count": null,
   "metadata": {},
   "outputs": [],
   "source": [
    "#These 2 plots are showing the max temperatures versus latitude in the northern and southern hemispheres. They show that there is a stronger relationship between latitude and max tempurature in the Northern Hemisphere\n",
    "#and the max temp in both hemispheres get higher closer to the equator."
   ]
  },
  {
   "cell_type": "markdown",
   "metadata": {},
   "source": [
    "####  Northern Hemisphere - Humidity (%) vs. Latitude Linear Regression"
   ]
  },
  {
   "cell_type": "code",
   "execution_count": 15,
   "metadata": {},
   "outputs": [
    {
     "name": "stdout",
     "output_type": "stream",
     "text": [
      "3      76.123703\n",
      "4      78.859044\n",
      "6      76.062517\n",
      "8      78.243592\n",
      "10     79.589667\n",
      "         ...    \n",
      "548    73.370366\n",
      "549    68.734683\n",
      "550    77.790101\n",
      "551    77.376201\n",
      "552    80.485852\n",
      "Name: Latitude, Length: 391, dtype: float64\n",
      "y = 0.36x +61.51\n",
      "The r-squared is: 0.14296446215570083\n"
     ]
    },
    {
     "data": {
      "image/png": "[encoded data removed]",
      "text/plain": [
       "<Figure size 432x288 with 1 Axes>"
      ]
     },
     "metadata": {
      "needs_background": "light"
     },
     "output_type": "display_data"
    }
   ],
   "source": [
    "x_values = NorthHemi_df['Latitude']\n",
    "y_values = NorthHemi_df['Humidity']\n",
    "\n",
    "(slope, intercept, rvalue, pvalue, stderr) = linregress(x_values, y_values)\n",
    "\n",
    "# Get regression values\n",
    "regress_values = x_values * slope + intercept\n",
    "print(regress_values)\n",
    "\n",
    "line_eq = \"y = \" + str(round(slope,2)) + \"x +\" + str(round(intercept,2))\n",
    "print(line_eq)\n",
    "\n",
    "plt.scatter(x_values,y_values)\n",
    "plt.plot(x_values,regress_values,\"r-\")\n",
    "\n",
    "# Label plot and annotate the line equation\n",
    "plt.xlabel('Latitude')\n",
    "plt.ylabel('Humidity (%)')\n",
    "plt.annotate(line_eq,(45,25),fontsize=15,color=\"red\")\n",
    "#plt.annotate lets you put text in graph\n",
    "\n",
    "# Print r square value\n",
    "print(f\"The r-squared is: {rvalue*rvalue}\")\n",
    "\n",
    "# Show plot\n",
    "\n",
    "plt.savefig('Lat-Humidity North.png')\n",
    "plt.show()"
   ]
  },
  {
   "cell_type": "markdown",
   "metadata": {},
   "source": [
    "####  Southern Hemisphere - Humidity (%) vs. Latitude Linear Regression"
   ]
  },
  {
   "cell_type": "code",
   "execution_count": 16,
   "metadata": {
    "scrolled": true
   },
   "outputs": [
    {
     "name": "stdout",
     "output_type": "stream",
     "text": [
      "0      75.229201\n",
      "1      78.241097\n",
      "2      66.927338\n",
      "5      74.791871\n",
      "7      71.737971\n",
      "         ...    \n",
      "530    75.893844\n",
      "532    74.231001\n",
      "533    73.358811\n",
      "539    69.133756\n",
      "542    77.514684\n",
      "Name: Latitude, Length: 162, dtype: float64\n",
      "y = 0.25x +80.47\n",
      "The r-squared is: 0.033226444979457447\n"
     ]
    },
    {
     "data": {
      "image/png": "[encoded data removed]",
      "text/plain": [
       "<Figure size 432x288 with 1 Axes>"
      ]
     },
     "metadata": {
      "needs_background": "light"
     },
     "output_type": "display_data"
    }
   ],
   "source": [
    "x_values = SouthHemi_df['Latitude']\n",
    "y_values = SouthHemi_df['Humidity']\n",
    "\n",
    "(slope, intercept, rvalue, pvalue, stderr) = linregress(x_values, y_values)\n",
    "\n",
    "# Get regression values\n",
    "regress_values = x_values * slope + intercept\n",
    "print(regress_values)\n",
    "\n",
    "line_eq = \"y = \" + str(round(slope,2)) + \"x +\" + str(round(intercept,2))\n",
    "print(line_eq)\n",
    "\n",
    "plt.scatter(x_values,y_values)\n",
    "plt.plot(x_values,regress_values,\"r-\")\n",
    "\n",
    "# Label plot and annotate the line equation\n",
    "plt.xlabel('Latitude')\n",
    "plt.ylabel('Humidity (%)')\n",
    "plt.annotate(line_eq,(-40,30),fontsize=15,color=\"red\")\n",
    "#plt.annotate lets you put text in graph\n",
    "\n",
    "# Print r square value\n",
    "print(f\"The r-squared is: {rvalue*rvalue}\")\n",
    "\n",
    "# Show plot\n",
    "\n",
    "plt.savefig('Lat-Humidity South.png')\n",
    "plt.show()"
   ]
  },
  {
   "cell_type": "code",
   "execution_count": null,
   "metadata": {},
   "outputs": [],
   "source": [
    "#These 2 graphs are showing the relationship between latitude and humidity% inthe northern and southern hemispheres. Neither show a very strong corralation, except that they seem to get more humid as you go north."
   ]
  },
  {
   "cell_type": "markdown",
   "metadata": {},
   "source": [
    "####  Northern Hemisphere - Cloudiness (%) vs. Latitude Linear Regression"
   ]
  },
  {
   "cell_type": "code",
   "execution_count": 17,
   "metadata": {},
   "outputs": [
    {
     "name": "stdout",
     "output_type": "stream",
     "text": [
      "3      76.123703\n",
      "4      78.859044\n",
      "6      76.062517\n",
      "8      78.243592\n",
      "10     79.589667\n",
      "         ...    \n",
      "548    73.370366\n",
      "549    68.734683\n",
      "550    77.790101\n",
      "551    77.376201\n",
      "552    80.485852\n",
      "Name: Latitude, Length: 391, dtype: float64\n",
      "y = 0.36x +61.51\n",
      "The r-squared is: 0.14296446215570083\n"
     ]
    },
    {
     "data": {
      "image/png": "[encoded data removed]",
      "text/plain": [
       "<Figure size 432x288 with 1 Axes>"
      ]
     },
     "metadata": {
      "needs_background": "light"
     },
     "output_type": "display_data"
    }
   ],
   "source": [
    "x_values = NorthHemi_df['Latitude']\n",
    "y_values = NorthHemi_df['Humidity']\n",
    "\n",
    "(slope, intercept, rvalue, pvalue, stderr) = linregress(x_values, y_values)\n",
    "\n",
    "# Get regression values\n",
    "regress_values = x_values * slope + intercept\n",
    "print(regress_values)\n",
    "\n",
    "line_eq = \"y = \" + str(round(slope,2)) + \"x +\" + str(round(intercept,2))\n",
    "print(line_eq)\n",
    "\n",
    "plt.scatter(x_values,y_values)\n",
    "plt.plot(x_values,regress_values,\"r-\")\n",
    "\n",
    "# Label plot and annotate the line equation\n",
    "plt.xlabel('Latitude')\n",
    "plt.ylabel('Cloudiness (%)')\n",
    "plt.annotate(line_eq,(30,20),fontsize=15,color=\"red\")\n",
    "#plt.annotate lets you put text in graph\n",
    "\n",
    "# Print r square value\n",
    "print(f\"The r-squared is: {rvalue*rvalue}\")\n",
    "\n",
    "# Show plot\n",
    "\n",
    "plt.savefig('Lat-Cloudiness North.png')\n",
    "plt.show()"
   ]
  },
  {
   "cell_type": "markdown",
   "metadata": {},
   "source": [
    "####  Southern Hemisphere - Cloudiness (%) vs. Latitude Linear Regression"
   ]
  },
  {
   "cell_type": "code",
   "execution_count": 18,
   "metadata": {},
   "outputs": [
    {
     "name": "stdout",
     "output_type": "stream",
     "text": [
      "0      53.159641\n",
      "1      62.015350\n",
      "2      28.750140\n",
      "5      51.873783\n",
      "7      42.894574\n",
      "         ...    \n",
      "530    55.113854\n",
      "532    50.224689\n",
      "533    47.660239\n",
      "539    35.237546\n",
      "542    59.879518\n",
      "Name: Latitude, Length: 162, dtype: float64\n",
      "y = 0.73x +68.56\n",
      "The r-squared is: 0.06325418603590269\n"
     ]
    },
    {
     "data": {
      "image/png": "[encoded data removed]",
      "text/plain": [
       "<Figure size 432x288 with 1 Axes>"
      ]
     },
     "metadata": {
      "needs_background": "light"
     },
     "output_type": "display_data"
    }
   ],
   "source": [
    "x_values = SouthHemi_df['Latitude']\n",
    "y_values = SouthHemi_df['Cloudiness']\n",
    "\n",
    "(slope, intercept, rvalue, pvalue, stderr) = linregress(x_values, y_values)\n",
    "\n",
    "# Get regression values\n",
    "regress_values = x_values * slope + intercept\n",
    "print(regress_values)\n",
    "\n",
    "line_eq = \"y = \" + str(round(slope,2)) + \"x +\" + str(round(intercept,2))\n",
    "print(line_eq)\n",
    "\n",
    "plt.scatter(x_values,y_values)\n",
    "plt.plot(x_values,regress_values,\"r-\")\n",
    "\n",
    "# Label plot and annotate the line equation\n",
    "plt.xlabel('Latitude')\n",
    "plt.ylabel('Cloudiness (%)')\n",
    "plt.annotate(line_eq,(-50,10),fontsize=15,color=\"red\")\n",
    "#plt.annotate lets you put text in graph\n",
    "\n",
    "# Print r square value\n",
    "print(f\"The r-squared is: {rvalue*rvalue}\")\n",
    "\n",
    "# Show plot\n",
    "\n",
    "plt.savefig('Lat-Cloudiness South.png')\n",
    "plt.show()"
   ]
  },
  {
   "cell_type": "code",
   "execution_count": null,
   "metadata": {},
   "outputs": [],
   "source": [
    "#These 2 charts are plotting the cloudiness at each latitude. There doesn't seem to be much correlation between latutude and clouds except a little bit in the nothern hemisphere where it gets slightly more cloudy in higher latitudes."
   ]
  },
  {
   "cell_type": "markdown",
   "metadata": {},
   "source": [
    "####  Northern Hemisphere - Wind Speed (mph) vs. Latitude Linear Regression"
   ]
  },
  {
   "cell_type": "code",
   "execution_count": 19,
   "metadata": {},
   "outputs": [
    {
     "name": "stdout",
     "output_type": "stream",
     "text": [
      "3      8.912805\n",
      "4      9.328833\n",
      "6      8.903499\n",
      "8      9.235227\n",
      "10     9.439957\n",
      "         ...   \n",
      "548    8.494039\n",
      "549    7.788980\n",
      "550    9.166254\n",
      "551    9.103302\n",
      "552    9.576261\n",
      "Name: Latitude, Length: 391, dtype: float64\n",
      "y = 0.05x +6.69\n",
      "The r-squared is: 0.0201427910138606\n"
     ]
    },
    {
     "data": {
      "image/png": "[encoded data removed]",
      "text/plain": [
       "<Figure size 432x288 with 1 Axes>"
      ]
     },
     "metadata": {
      "needs_background": "light"
     },
     "output_type": "display_data"
    }
   ],
   "source": [
    "x_values = NorthHemi_df['Latitude']\n",
    "y_values = NorthHemi_df['WindSpeed']\n",
    "\n",
    "(slope, intercept, rvalue, pvalue, stderr) = linregress(x_values, y_values)\n",
    "\n",
    "# Get regression values\n",
    "regress_values = x_values * slope + intercept\n",
    "print(regress_values)\n",
    "\n",
    "line_eq = \"y = \" + str(round(slope,2)) + \"x +\" + str(round(intercept,2))\n",
    "print(line_eq)\n",
    "\n",
    "plt.scatter(x_values,y_values)\n",
    "plt.plot(x_values,regress_values,\"r-\")\n",
    "\n",
    "# Label plot and annotate the line equation\n",
    "plt.xlabel('Latitude')\n",
    "plt.ylabel('WindSpeed (mph)')\n",
    "plt.annotate(line_eq,(50,35),fontsize=15,color=\"red\")\n",
    "#plt.annotate lets you put text in graph\n",
    "\n",
    "# Print r square value\n",
    "print(f\"The r-squared is: {rvalue*rvalue}\")\n",
    "\n",
    "# Show plot\n",
    "\n",
    "plt.savefig('Lat-Wind North.png')\n",
    "plt.show()"
   ]
  },
  {
   "cell_type": "markdown",
   "metadata": {},
   "source": [
    "####  Southern Hemisphere - Wind Speed (mph) vs. Latitude Linear Regression"
   ]
  },
  {
   "cell_type": "code",
   "execution_count": 20,
   "metadata": {},
   "outputs": [
    {
     "name": "stdout",
     "output_type": "stream",
     "text": [
      "0       7.726252\n",
      "1       5.815344\n",
      "2      12.993396\n",
      "5       8.003718\n",
      "7       9.941274\n",
      "         ...    \n",
      "530     7.304567\n",
      "532     8.359563\n",
      "533     8.912927\n",
      "539    11.593527\n",
      "542     6.276220\n",
      "Name: Latitude, Length: 162, dtype: float64\n",
      "y = -0.16x +4.4\n",
      "The r-squared is: 0.12205588003971186\n"
     ]
    },
    {
     "data": {
      "image/png": "[encoded data removed]",
      "text/plain": [
       "<Figure size 432x288 with 1 Axes>"
      ]
     },
     "metadata": {
      "needs_background": "light"
     },
     "output_type": "display_data"
    }
   ],
   "source": [
    "x_values = SouthHemi_df['Latitude']\n",
    "y_values = SouthHemi_df['WindSpeed']\n",
    "\n",
    "(slope, intercept, rvalue, pvalue, stderr) = linregress(x_values, y_values)\n",
    "\n",
    "# Get regression values\n",
    "regress_values = x_values * slope + intercept\n",
    "print(regress_values)\n",
    "\n",
    "line_eq = \"y = \" + str(round(slope,2)) + \"x +\" + str(round(intercept,2))\n",
    "print(line_eq)\n",
    "\n",
    "plt.scatter(x_values,y_values)\n",
    "plt.plot(x_values,regress_values,\"r-\")\n",
    "\n",
    "# Label plot and annotate the line equation\n",
    "plt.xlabel('Latitude')\n",
    "plt.ylabel('WindSpeed (mph)')\n",
    "plt.annotate(line_eq,(-30,25),fontsize=15,color=\"red\")\n",
    "#plt.annotate lets you put text in graph\n",
    "\n",
    "# Print r square value\n",
    "print(f\"The r-squared is: {rvalue*rvalue}\")\n",
    "\n",
    "# Show plot\n",
    "\n",
    "plt.savefig('Lat-Wind South.png')\n",
    "plt.show()"
   ]
  },
  {
   "cell_type": "code",
   "execution_count": null,
   "metadata": {},
   "outputs": [],
   "source": [
    "#These two are showing the correlation between wind speed in mph to latitude in the northern and southern hemispheres."
   ]
  },
  {
   "cell_type": "code",
   "execution_count": null,
   "metadata": {},
   "outputs": [],
   "source": [
    "#3 observations:\n",
    "#Temperature increases as latitude gets closer to the equator.\n",
    "#Humidity seems to increase in general the farther north you go.\n",
    "#Within the limits set, wind does not seem to get faster than about 3 mph, with one exception at 40 and 2 at 35.\n"
   ]
  }
 ],
 "metadata": {
  "anaconda-cloud": {},
  "kernel_info": {
   "name": "python3"
  },
  "kernelspec": {
   "display_name": "Python 3",
   "language": "python",
   "name": "python3"
  },
  "language_info": {
   "codemirror_mode": {
    "name": "ipython",
    "version": 3
   },
   "file_extension": ".py",
   "mimetype": "text/x-python",
   "name": "python",
   "nbconvert_exporter": "python",
   "pygments_lexer": "ipython3",
   "version": "3.7.4"
  },
  "latex_envs": {
   "LaTeX_envs_menu_present": true,
   "autoclose": false,
   "autocomplete": true,
   "bibliofile": "biblio.bib",
   "cite_by": "apalike",
   "current_citInitial": 1,
   "eqLabelWithNumbers": true,
   "eqNumInitial": 1,
   "hotkeys": {
    "equation": "Ctrl-E",
    "itemize": "Ctrl-I"
   },
   "labels_anchors": false,
   "latex_user_defs": false,
   "report_style_numbering": false,
   "user_envs_cfg": false
  },
  "nteract": {
   "version": "0.12.3"
  }
 },
 "nbformat": 4,
 "nbformat_minor": 2
}

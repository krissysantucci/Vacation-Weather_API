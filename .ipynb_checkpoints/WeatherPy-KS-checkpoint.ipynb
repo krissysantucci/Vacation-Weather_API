{
 "cells": [
  {
   "cell_type": "markdown",
   "metadata": {},
   "source": [
    "# WeatherPy\n",
    "----\n",
    "\n",
    "#### Note\n",
    "* Instructions have been included for each segment. You do not have to follow them exactly, but they are included to help you think through the steps."
   ]
  },
  {
   "cell_type": "code",
   "execution_count": 19,
   "metadata": {
    "scrolled": true
   },
   "outputs": [],
   "source": [
    "# Dependencies and Setup\n",
    "import matplotlib.pyplot as plt\n",
    "import pandas as pd\n",
    "import numpy as np\n",
    "import requests\n",
    "import time\n",
    "from scipy.stats import linregress\n",
    "\n",
    "\n",
    "# Import API key\n",
    "from api_keys import weather_api_key\n",
    "\n",
    "# Incorporated citipy to determine city based on latitude and longitude\n",
    "from citipy import citipy\n",
    "\n",
    "# Output File (CSV)\n",
    "#output_data_file = \"output_data/cities.csv\"\n",
    "\n",
    "# Range of latitudes and longitudes\n",
    "lat_range = (-90, 90)\n",
    "lng_range = (-180, 180)\n",
    "\n",
    "url = \"http://api.openweathermap.org/data/2.5/weather?\"\n",
    "units = \"imperial\"\n",
    "query_url = f\"{url}appid={weather_api_key}&units={units}&q=\""
   ]
  },
  {
   "cell_type": "markdown",
   "metadata": {},
   "source": [
    "## Generate Cities List"
   ]
  },
  {
   "cell_type": "code",
   "execution_count": 20,
   "metadata": {},
   "outputs": [
    {
     "data": {
      "text/plain": [
       "616"
      ]
     },
     "execution_count": 20,
     "metadata": {},
     "output_type": "execute_result"
    }
   ],
   "source": [
    "# List for holding lat_lngs and cities\n",
    "lat_lngs = []\n",
    "cities = []\n",
    "\n",
    "# Create a set of random lat and lng combinations\n",
    "lats = np.random.uniform(low=-90.000, high=90.000, size=1500)\n",
    "lngs = np.random.uniform(low=-180.000, high=180.000, size=1500)\n",
    "lat_lngs = zip(lats, lngs)\n",
    "\n",
    "# Identify nearest city for each lat, lng combination\n",
    "for lat_lng in lat_lngs:\n",
    "    city = citipy.nearest_city(lat_lng[0], lat_lng[1]).city_name\n",
    "    \n",
    "    # If the city is unique, then add it to a our cities list\n",
    "    if city not in cities:\n",
    "        cities.append(city)\n",
    "\n",
    "# Print the city count to confirm sufficient count\n",
    "len(cities)"
   ]
  },
  {
   "cell_type": "markdown",
   "metadata": {},
   "source": [
    "### Perform API Calls\n",
    "* Perform a weather check on each city using a series of successive API calls.\n",
    "* Include a print log of each city as it'sbeing processed (with the city number and city name).\n"
   ]
  },
  {
   "cell_type": "code",
   "execution_count": 21,
   "metadata": {},
   "outputs": [
    {
     "name": "stdout",
     "output_type": "stream",
     "text": [
      "processing City anadyr CityID: 2127202\n",
      "processing City zyryanka CityID: 2119283\n",
      "processing City mar del plata CityID: 3430863\n",
      "processing City bluff CityID: 2206939\n",
      "processing City cockburn town CityID: 3576994\n",
      "processing City ushuaia CityID: 3833367\n",
      "processing City ilukste CityID: 459586\n",
      "processing City georgetown CityID: 1735106\n",
      "processing City hermanus CityID: 3366880\n",
      "processing City severo-kurilsk CityID: 2121385\n",
      "processing City peque CityID: 3672512\n",
      "processing City forbes CityID: 2166368\n",
      "processing City neepawa CityID: 6086673\n",
      "processing City mehamn CityID: 778707\n",
      "processing City qaanaaq CityID: 3831208\n",
      "processing City albany CityID: 5106841\n",
      "processing City port hardy CityID: 6111862\n",
      "processing City carnarvon CityID: 2074865\n",
      "processing City hof CityID: 2902768\n",
      "processing City souillac CityID: 933995\n",
      "processing City provideniya CityID: 4031574\n",
      "processing City talnakh CityID: 1490256\n",
      "processing City lagoa CityID: 3372964\n",
      "processing City punta arenas CityID: 3874787\n",
      "processing City banda aceh CityID: 1215502\n",
      "processing City mataura CityID: 6201424\n",
      "processing City sao filipe CityID: 3374210\n",
      "processing City rikitea CityID: 4030556\n",
      "processing City grenada CityID: 2517117\n",
      "processing City cabo san lucas CityID: 3985710\n",
      "processing City jamestown CityID: 5122534\n",
      "processing City cherskiy CityID: 2126199\n",
      "processing City aranos CityID: 3358666\n",
      "processing City new norfolk CityID: 2155415\n",
      "processing City douglas CityID: 5067114\n",
      "processing City lazaro cardenas CityID: 4026082\n",
      "processing City alofi CityID: 4036284\n",
      "processing City saldanha CityID: 3361934\n",
      "processing City kabanjahe CityID: 1214965\n",
      "processing City dikson CityID: 1507390\n",
      "processing City vaini CityID: 4032243\n",
      "processing City college CityID: 5859699\n",
      "processing City mount gambier CityID: 2156643\n",
      "processing City te anau CityID: 2181625\n",
      "processing City bambous virieux CityID: 1106677\n",
      "processing City sept-iles CityID: 6144312\n",
      "processing City bilibino CityID: 2126682\n",
      "processing City jiaozuo CityID: 1805987\n",
      "processing City kavieng CityID: 2094342\n",
      "processing City busselton CityID: 2075265\n",
      "processing City port alfred CityID: 964432\n",
      "processing City anori CityID: 3665315\n",
      "processing City upernavik CityID: 3418910\n",
      "processing City manjacaze CityID: 1040938\n",
      "processing City yatou CityID: 1786855\n",
      "processing City ponta delgada CityID: 3372783\n",
      "processing City havre-saint-pierre CityID: 5972291\n",
      "processing City bayir CityID: 304183\n",
      "processing City mildura CityID: 2157698\n",
      "processing City kapaa CityID: 5848280\n",
      "processing City castro CityID: 3466704\n",
      "processing City tessalit CityID: 2449893\n",
      "processing City geraldton CityID: 2070998\n",
      "processing City ende CityID: 1644932\n",
      "processing City murmashi CityID: 524299\n",
      "processing City tsilna CityID: 480884\n",
      "processing City yantal CityID: 2055868\n",
      "processing City hobart CityID: 2163355\n",
      "processing City tyler CityID: 4738214\n",
      "processing City kautokeino CityID: 779330\n",
      "processing City cape town CityID: 3369157\n",
      "processing City pevek CityID: 2122090\n",
      "processing City catamarca CityID: 3837702\n",
      "processing City ahipara CityID: 2194098\n",
      "processing City kalasin CityID: 1610468\n",
      "processing City hilo CityID: 5855927\n",
      "processing City bidhuna CityID: 1275732\n",
      "processing City vung tau CityID: 1562414\n",
      "processing City curup CityID: 1645875\n",
      "processing City khatanga CityID: 2022572\n",
      "processing City mouila CityID: 2398073\n",
      "processing City mirante do paranapanema CityID: 3457098\n",
      "processing City san rafael CityID: 3836669\n",
      "processing City hearst CityID: 5973108\n",
      "processing City maldonado CityID: 3441890\n",
      "processing City arraial do cabo CityID: 3471451\n",
      "processing City sungaipenuh CityID: 1625929\n",
      "processing City port elizabeth CityID: 964420\n",
      "processing City kipini CityID: 191675\n",
      "processing City comodoro rivadavia CityID: 3860443\n",
      "processing City ancud CityID: 3899695\n",
      "processing City nantucket CityID: 4944903\n",
      "processing City nishihara CityID: 1855342\n",
      "processing City olafsvik CityID: 3414079\n",
      "processing City sao joao da barra CityID: 3448903\n",
      "processing City aulnoye-aymeries CityID: 3036132\n",
      "processing City komsomolskiy CityID: 1513491\n",
      "processing City dasuya CityID: 1273410\n",
      "processing City sistranda CityID: 3139597\n",
      "processing City yellowknife CityID: 6185377\n",
      "processing City nikolskoye CityID: 546105\n",
      "processing City lompoc CityID: 5367788\n",
      "processing City lebu CityID: 3883457\n",
      "processing City victoria CityID: 1819729\n",
      "processing City ilulissat CityID: 3423146\n",
      "processing City atar CityID: 2381334\n",
      "processing City roald CityID: 3141667\n",
      "processing City chuy CityID: 3443061\n",
      "processing City saint-francois CityID: 2980080\n",
      "processing City tuktoyaktuk CityID: 6170031\n",
      "processing City rio brilhante CityID: 3451241\n",
      "processing City port lincoln CityID: 2063036\n",
      "processing City kloulklubed CityID: 7671223\n",
      "processing City whitehorse CityID: 6180550\n",
      "processing City qaqortoq CityID: 3420846\n",
      "processing City havre CityID: 3013633\n",
      "processing City santa fe CityID: 3836277\n",
      "processing City wanning CityID: 1791779\n",
      "processing City hasaki CityID: 2112802\n",
      "processing City guerrero negro CityID: 4021858\n",
      "processing City weiser CityID: 5611730\n",
      "processing City fortuna CityID: 5563839\n",
      "processing City charlestown CityID: 2171766\n",
      "processing City lagos CityID: 2332453\n",
      "processing City kangaatsiaq CityID: 3422683\n",
      "processing City buin CityID: 3897774\n",
      "processing City bonfim CityID: 3405215\n",
      "processing City puerto ayora CityID: 3652764\n",
      "processing City barrow CityID: 5880054\n",
      "processing City amga CityID: 2027786\n",
      "processing City avarua CityID: 4035715\n",
      "processing City ajdabiya CityID: 89113\n",
      "processing City petropavlovka CityID: 2017979\n",
      "processing City olenegorsk CityID: 515698\n",
      "processing City ugoofaaru CityID: 1337619\n",
      "processing City butaritari CityID: 2110227\n",
      "processing City malanje CityID: 2239862\n",
      "processing City mount isa CityID: 2065594\n",
      "processing City pisco CityID: 3932145\n",
      "processing City pacific grove CityID: 5380437\n",
      "processing City north bend CityID: 5742974\n",
      "processing City riyadh CityID: 108410\n",
      "processing City fare CityID: 4034496\n",
      "processing City beringovskiy CityID: 2126710\n",
      "processing City sovetskiy CityID: 1491230\n",
      "processing City sinnamary CityID: 3380290\n",
      "processing City nortelandia CityID: 3456248\n",
      "processing City aden CityID: 415189\n",
      "processing City luwuk CityID: 1637001\n",
      "processing City galveston CityID: 4692856\n",
      "processing City atuona CityID: 4020109\n",
      "processing City lata CityID: 2738381\n",
      "processing City vostok CityID: 2013279\n",
      "processing City hambantota CityID: 1244926\n",
      "processing City palmer CityID: 4946620\n",
      "processing City portland CityID: 5746545\n",
      "processing City berlevag CityID: 780687\n",
      "processing City tuatapere CityID: 2180815\n",
      "processing City santiago CityID: 3871336\n",
      "processing City tasiilaq CityID: 3424607\n",
      "processing City chokurdakh CityID: 2126123\n",
      "processing City bredasdorp CityID: 1015776\n",
      "processing City muktsar CityID: 1262578\n",
      "processing City sisimiut CityID: 3419842\n",
      "processing City oleksandrivka CityID: 698627\n",
      "processing City katsuura CityID: 2112309\n",
      "processing City kodiak CityID: 5866583\n",
      "processing City xai-xai CityID: 1024552\n",
      "processing City cabra CityID: 2520645\n",
      "processing City saint-philippe CityID: 935215\n",
      "processing City bengkulu CityID: 1649150\n",
      "processing City leningradskiy CityID: 2123814\n",
      "processing City palana CityID: 2122262\n",
      "processing City cidreira CityID: 3466165\n",
      "processing City petropavlovsk-kamchatskiy CityID: 2122104\n",
      "processing City lorengau CityID: 2092164\n",
      "processing City pierre CityID: 5767918\n",
      "processing City nagato CityID: 1899102\n",
      "processing City margate CityID: 2643044\n",
      "processing City sitka CityID: 5557293\n",
      "processing City fecamp CityID: 3018794\n",
      "processing City benguela CityID: 3351663\n",
      "processing City ha tinh CityID: 1581047\n",
      "processing City sur CityID: 286245\n",
      "processing City balkhash CityID: 1525798\n",
      "processing City sibu CityID: 1735902\n",
      "processing City port keats CityID: 2063039\n",
      "processing City noyabrsk CityID: 1496503\n",
      "processing City faanui CityID: 4034551\n",
      "processing City durban CityID: 1007311\n",
      "processing City tura CityID: 1254046\n",
      "processing City zhangye CityID: 1785036\n",
      "processing City laguna CityID: 5364271\n",
      "processing City alyangula CityID: 2079582\n",
      "processing City kilimatinde CityID: 157448\n",
      "processing City chagoda CityID: 570086\n",
      "processing City moncao CityID: 2737523\n",
      "processing City porto walter CityID: 3662761\n",
      "processing City kondinskoye CityID: 1502697\n"
     ]
    },
    {
     "name": "stdout",
     "output_type": "stream",
     "text": [
      "processing City kerema CityID: 2094144\n",
      "processing City inhambane CityID: 1045114\n",
      "processing City kupang CityID: 2057087\n",
      "processing City lahij CityID: 6201197\n",
      "processing City east london CityID: 1006984\n",
      "processing City tabou CityID: 2281120\n",
      "processing City dawson creek CityID: 5935804\n",
      "processing City takoradi CityID: 2294915\n",
      "processing City bolnisi CityID: 615419\n",
      "processing City itarema CityID: 3393692\n",
      "processing City kyzyl CityID: 1500973\n",
      "processing City lapeer CityID: 4998842\n",
      "processing City cody CityID: 5821593\n",
      "processing City shelton CityID: 4842898\n",
      "processing City alta floresta CityID: 6316343\n",
      "processing City sorland CityID: 3137469\n",
      "processing City tautira CityID: 4033557\n",
      "processing City turukhansk CityID: 1488903\n",
      "processing City kieta CityID: 2094027\n",
      "processing City nalut CityID: 2214432\n",
      "processing City nome CityID: 5870133\n",
      "processing City port-gentil CityID: 2396518\n",
      "processing City tiksi CityID: 2015306\n",
      "processing City biak CityID: 1637001\n",
      "processing City ostrovnoy CityID: 556268\n",
      "processing City sola CityID: 2134814\n",
      "processing City hovd CityID: 1516048\n",
      "processing City buraydah CityID: 107304\n",
      "processing City joshimath CityID: 1268814\n",
      "processing City aloleng CityID: 1731298\n",
      "processing City airai CityID: 1651810\n",
      "processing City thompson CityID: 6165406\n",
      "processing City ola CityID: 2122574\n",
      "processing City eydhafushi CityID: 1337606\n",
      "processing City narsaq CityID: 3421719\n",
      "processing City san bartolome CityID: 2511440\n",
      "processing City waipawa CityID: 2206874\n",
      "processing City terrace bay CityID: 6162951\n",
      "processing City hami CityID: 1529484\n",
      "processing City vila CityID: 7117100\n",
      "processing City monrovia CityID: 2274895\n",
      "processing City filadelfia CityID: 4560349\n",
      "processing City ukiah CityID: 5404476\n",
      "processing City homer CityID: 5864145\n",
      "processing City nanortalik CityID: 3421765\n",
      "processing City siniscola CityID: 3166509\n",
      "processing City namibe CityID: 3347019\n",
      "processing City norman wells CityID: 6089245\n",
      "processing City pangody CityID: 1495626\n",
      "processing City aklavik CityID: 5882953\n",
      "processing City vila velha CityID: 3445026\n",
      "processing City kamaishi CityID: 2112444\n",
      "processing City millerovo CityID: 526558\n",
      "processing City hithadhoo CityID: 1282256\n",
      "processing City itapora CityID: 3464460\n",
      "processing City dawlatabad CityID: 1142226\n",
      "processing City graaff-reinet CityID: 1000543\n",
      "processing City yeniseysk CityID: 1485997\n",
      "processing City cacequi CityID: 3468553\n",
      "processing City kaitangata CityID: 2208248\n",
      "processing City bogoslovka CityID: 575494\n",
      "processing City kalaleh CityID: 129512\n",
      "processing City kutum CityID: 371745\n",
      "processing City walvis bay CityID: 3359638\n",
      "processing City longyearbyen CityID: 2729907\n",
      "processing City lithakia CityID: 258241\n",
      "processing City pokosnoye CityID: 2017842\n",
      "processing City port blair CityID: 1259385\n",
      "processing City broken hill CityID: 2173911\n",
      "processing City onokhoy CityID: 2018436\n",
      "processing City boa vista CityID: 3664980\n",
      "processing City soe CityID: 1626703\n",
      "processing City high level CityID: 5975004\n",
      "processing City verkhnyaya toyma CityID: 474470\n",
      "processing City athens CityID: 264371\n",
      "processing City myitkyina CityID: 1307741\n",
      "processing City sao joao do paraiso CityID: 3448861\n",
      "processing City alice springs CityID: 2077895\n",
      "processing City khrystynivka CityID: 706200\n",
      "processing City igarka CityID: 1505991\n",
      "processing City prince rupert CityID: 6113406\n",
      "processing City vao CityID: 2137773\n",
      "processing City sakakah CityID: 102527\n",
      "processing City tarsus CityID: 299817\n",
      "processing City sarti CityID: 734339\n",
      "processing City cornelio procopio CityID: 3465508\n",
      "processing City hokitika CityID: 2206894\n",
      "processing City shaowu CityID: 1795857\n",
      "processing City urumqi CityID: 1529102\n",
      "processing City vestmannaeyjar CityID: 3412093\n",
      "processing City puerto escondido CityID: 3520994\n",
      "processing City luderitz CityID: 3355672\n",
      "processing City sidi ali CityID: 2487130\n",
      "processing City bethel CityID: 5282297\n",
      "processing City esperance CityID: 2071860\n",
      "processing City ponta do sol CityID: 2264557\n",
      "processing City slave lake CityID: 6149374\n",
      "processing City saskylakh CityID: 2017155\n",
      "processing City namatanai CityID: 2090021\n",
      "processing City egvekinot CityID: 4031742\n",
      "processing City qarayeri CityID: 586135\n",
      "processing City labuhan CityID: 8079926\n",
      "processing City hurricane CityID: 5540831\n",
      "processing City bad freienwalde CityID: 2953458\n",
      "processing City havelock CityID: 4470244\n",
      "processing City rusape CityID: 882100\n",
      "processing City rancho veloz CityID: 3542753\n",
      "processing City salalah CityID: 286621\n",
      "processing City dabou CityID: 2290582\n",
      "processing City calabozo CityID: 3647444\n",
      "processing City klyuchevskiy CityID: 2021980\n",
      "processing City najran CityID: 103630\n",
      "processing City helong CityID: 2036933\n",
      "processing City nuqui CityID: 3673690\n",
      "processing City konstantinovskaya CityID: 545276\n",
      "processing City nouadhibou CityID: 2377457\n",
      "processing City hualmay CityID: 3939761\n",
      "processing City roebourne CityID: 2062276\n",
      "processing City mbandaka CityID: 2312895\n",
      "processing City petawawa CityID: 6101607\n",
      "processing City carroll CityID: 4350461\n",
      "processing City dingle CityID: 1714733\n",
      "processing City ribeira grande CityID: 3372707\n",
      "processing City mattersburg CityID: 2771817\n",
      "processing City saint george CityID: 5546220\n",
      "processing City calbuco CityID: 3897334\n",
      "processing City petropavlivka CityID: 697423\n",
      "processing City shelburne CityID: 6145890\n",
      "processing City jabinyanah CityID: 2470260\n",
      "processing City blackwater CityID: 2175403\n",
      "processing City richards bay CityID: 962367\n",
      "processing City banjar CityID: 1650232\n",
      "processing City caravelas CityID: 3466980\n",
      "processing City klaksvik CityID: 2618795\n",
      "processing City narasannapeta CityID: 1261853\n",
      "processing City reconquista CityID: 3429594\n",
      "processing City nchelenge CityID: 175499\n",
      "processing City starkville CityID: 4447161\n",
      "processing City tiarei CityID: 4033356\n",
      "processing City bulawayo CityID: 894701\n",
      "processing City ghanzi CityID: 933759\n",
      "processing City tezu CityID: 1254709\n",
      "processing City padang CityID: 1633419\n",
      "processing City cayenne CityID: 3382160\n",
      "processing City yumen CityID: 1528998\n",
      "processing City emerald CityID: 2167426\n",
      "processing City surt CityID: 2210554\n",
      "processing City cap malheureux CityID: 934649\n",
      "processing City areka CityID: 343593\n",
      "processing City jambi CityID: 1642858\n",
      "processing City kendari CityID: 1640344\n",
      "processing City aykhal CityID: 2027296\n",
      "processing City pell city CityID: 4082589\n",
      "processing City touros CityID: 3386213\n",
      "processing City constantine CityID: 2501152\n",
      "processing City maragogi CityID: 3395458\n",
      "processing City taganak CityID: 1684606\n",
      "processing City talara CityID: 3691582\n",
      "processing City zastron CityID: 937246\n",
      "processing City kidal CityID: 2455290\n",
      "processing City saurimo CityID: 145531\n",
      "processing City constitucion CityID: 3893726\n",
      "processing City turcianske teplice CityID: 3057086\n",
      "processing City grindavik CityID: 3416888\n",
      "processing City praia da vitoria CityID: 3372760\n",
      "processing City lulea CityID: 604490\n",
      "processing City husavik CityID: 2629833\n",
      "processing City evensk CityID: 2125693\n",
      "processing City nicoya CityID: 3622716\n",
      "processing City sfantu gheorghe CityID: 667303\n",
      "processing City maniitsoq CityID: 3421982\n",
      "processing City manokwari CityID: 1636308\n",
      "processing City fairbanks CityID: 5861897\n",
      "processing City raudeberg CityID: 3146487\n",
      "processing City caxito CityID: 2242001\n",
      "processing City mazagao CityID: 3395042\n",
      "processing City cururupu CityID: 3401148\n",
      "processing City adrar CityID: 2381972\n",
      "processing City mineiros CityID: 3457147\n",
      "processing City qujing CityID: 1797318\n",
      "processing City kalutara CityID: 1241964\n",
      "processing City serebryansk CityID: 1519395\n",
      "processing City fasa CityID: 134721\n",
      "processing City amet CityID: 1278808\n",
      "processing City irbit CityID: 1505526\n",
      "processing City makakilo city CityID: 5850554\n",
      "processing City flinders CityID: 6255012\n",
      "processing City ambon CityID: 1651531\n",
      "processing City sioux lookout CityID: 6148373\n",
      "processing City mahebourg CityID: 934322\n",
      "processing City syasstroy CityID: 485313\n",
      "processing City george town CityID: 1735106\n",
      "processing City adiake CityID: 2293428\n",
      "processing City sychevka CityID: 485280\n",
      "processing City luanda CityID: 2240449\n",
      "processing City westport CityID: 4845585\n",
      "processing City gaya CityID: 1271439\n",
      "processing City prien CityID: 4338068\n",
      "processing City briancon CityID: 3030142\n",
      "processing City korla CityID: 1529376\n"
     ]
    },
    {
     "name": "stdout",
     "output_type": "stream",
     "text": [
      "processing City mosetse CityID: 933277\n",
      "processing City sechura CityID: 3691954\n",
      "processing City khalkhal CityID: 128008\n",
      "processing City ketchikan CityID: 5554428\n",
      "processing City tomatlan CityID: 3981391\n",
      "processing City mana CityID: 3381041\n",
      "processing City ulladulla CityID: 2145554\n",
      "processing City sergeyevka CityID: 1519385\n",
      "processing City muros CityID: 3115824\n",
      "processing City codrington CityID: 2171099\n",
      "processing City verkh-usugli CityID: 2013459\n",
      "processing City gryazovets CityID: 558236\n",
      "processing City qui nhon CityID: 1568574\n",
      "processing City quelimane CityID: 1028434\n",
      "processing City simao CityID: 1794209\n",
      "processing City iqaluit CityID: 5983720\n",
      "processing City valley city CityID: 5062292\n",
      "processing City umkomaas CityID: 946128\n",
      "processing City bathsheba CityID: 3374083\n",
      "processing City englehart CityID: 5948844\n",
      "processing City okhotsk CityID: 2122605\n",
      "processing City coahuayana CityID: 4013679\n",
      "processing City dossor CityID: 610023\n",
      "processing City ust-donetskiy CityID: 478132\n",
      "processing City dungarpur CityID: 1272201\n",
      "processing City talaya CityID: 2120769\n",
      "processing City mentor CityID: 5162645\n",
      "processing City mecca CityID: 104515\n",
      "processing City amapa CityID: 3407762\n",
      "processing City marigot CityID: 3578851\n",
      "processing City mananjary CityID: 1061335\n",
      "processing City kahului CityID: 5847411\n",
      "processing City arrecife CityID: 2521570\n",
      "processing City hobyo CityID: 57000\n",
      "processing City tutoia CityID: 3385899\n",
      "processing City kamen-rybolov CityID: 2023226\n",
      "processing City mananara CityID: 1061412\n",
      "processing City boyuibe CityID: 3923015\n",
      "processing City cape coast CityID: 2302357\n",
      "processing City el limon CityID: 3642833\n",
      "processing City torbay CityID: 6167817\n",
      "processing City kavaratti CityID: 1267390\n",
      "processing City vila franca do campo CityID: 3372472\n",
      "processing City macheng CityID: 1801582\n",
      "processing City vaitape CityID: 4033077\n",
      "processing City winslow CityID: 5321473\n",
      "processing City khani CityID: 610864\n",
      "processing City poronaysk CityID: 2121909\n",
      "processing City talakan CityID: 2015686\n",
      "processing City srivardhan CityID: 1255619\n",
      "processing City san patricio CityID: 3985168\n",
      "processing City eureka CityID: 5563397\n",
      "processing City san policarpo CityID: 1688696\n",
      "processing City dunedin CityID: 2191562\n",
      "processing City akyab CityID: 1295765\n",
      "processing City villazon CityID: 3901501\n",
      "processing City manzhouli CityID: 2035836\n",
      "processing City hamilton CityID: 4513583\n",
      "processing City osorno CityID: 3877949\n",
      "processing City katherine CityID: 2068655\n",
      "processing City filimonovo CityID: 1506834\n",
      "processing City trincomalee CityID: 1226260\n",
      "processing City flin flon CityID: 5954718\n",
      "processing City northam CityID: 2641434\n",
      "processing City yulara CityID: 6355222\n",
      "processing City bela CityID: 1276574\n",
      "processing City cullinan CityID: 1012413\n",
      "processing City goderich CityID: 5962442\n",
      "processing City santa isabel CityID: 3450188\n",
      "processing City tolaga bay CityID: 2180991\n",
      "processing City camana CityID: 3945985\n",
      "processing City ambilobe CityID: 1082243\n",
      "processing City houma CityID: 4328010\n",
      "processing City rio gallegos CityID: 3838859\n",
      "processing City meulaboh CityID: 1214488\n",
      "processing City watertown CityID: 4954611\n",
      "processing City myaundzha CityID: 2123100\n",
      "processing City pinsk CityID: 623549\n",
      "processing City kota bahru CityID: 1736376\n",
      "processing City karratha CityID: 6620339\n",
      "processing City yablonovo CityID: 578283\n",
      "processing City kichera CityID: 2022129\n",
      "processing City phalodi CityID: 1259813\n",
      "processing City pemba CityID: 1028918\n",
      "processing City camabatela CityID: 2242885\n",
      "processing City olinda CityID: 3393536\n",
      "processing City dingli CityID: 2563140\n",
      "processing City kharan CityID: 1174062\n",
      "processing City portree CityID: 2640006\n",
      "processing City juba CityID: 373303\n",
      "processing City labuan CityID: 1733782\n",
      "processing City lerwick CityID: 2644605\n",
      "processing City kisaran CityID: 1214882\n",
      "processing City timiryazevskoye CityID: 1489597\n",
      "processing City turayf CityID: 101312\n",
      "processing City broome CityID: 5110365\n",
      "processing City natal CityID: 3394023\n",
      "processing City luganville CityID: 2136150\n",
      "processing City gomel CityID: 627907\n",
      "processing City usak CityID: 298298\n",
      "processing City diffa CityID: 2445704\n",
      "processing City kisangani CityID: 212730\n",
      "processing City rio grande CityID: 3451138\n",
      "processing City kaiu CityID: 589115\n",
      "processing City coruripe CityID: 3465329\n",
      "processing City poum CityID: 2138555\n",
      "processing City cabatuan CityID: 1721720\n",
      "processing City vagay CityID: 1487860\n",
      "processing City totma CityID: 481960\n",
      "processing City chicama CityID: 3698359\n",
      "processing City vardo CityID: 777019\n",
      "processing City gilgit CityID: 1178338\n",
      "processing City tyukhtet CityID: 1488774\n",
      "processing City lokosovo CityID: 1500399\n",
      "processing City pirgos CityID: 261814\n",
      "processing City arlit CityID: 2447513\n",
      "processing City nova petropolis CityID: 3456127\n",
      "processing City kindu CityID: 212902\n",
      "processing City gizo CityID: 2108857\n",
      "processing City martapura CityID: 1636022\n",
      "processing City chumikan CityID: 2025256\n",
      "processing City boysun CityID: 1217734\n",
      "processing City micheweni CityID: 153955\n",
      "processing City gabriel leyva solano CityID: 3976775\n",
      "processing City dover CityID: 4142290\n",
      "processing City garowe CityID: 58933\n",
      "processing City boke CityID: 2422924\n",
      "processing City udachnyy CityID: 2014624\n",
      "processing City flers CityID: 3018339\n",
      "processing City faya CityID: 110690\n",
      "processing City zambezi CityID: 895953\n",
      "processing City muscat CityID: 287286\n",
      "processing City adana CityID: 325361\n",
      "processing City kruisfontein CityID: 986717\n",
      "processing City jalu CityID: 86049\n",
      "processing City tsiroanomandidy CityID: 1054463\n",
      "processing City san juan de la maguana CityID: 3493081\n",
      "processing City aksarka CityID: 1512019\n",
      "processing City lethem CityID: 3379316\n",
      "processing City chivacoa CityID: 3645671\n",
      "processing City hohhot CityID: 2036892\n",
      "processing City solnechnyy CityID: 2016307\n",
      "processing City terrace CityID: 6162949\n",
      "processing City ginir CityID: 336454\n",
      "processing City kaeo CityID: 2189343\n",
      "processing City rochester CityID: 5134086\n",
      "processing City kalmunai CityID: 1242110\n",
      "processing City mahibadhoo CityID: 1337605\n",
      "processing City craig CityID: 5576064\n",
      "processing City mandan CityID: 5690366\n",
      "processing City arboletes CityID: 3689693\n",
      "processing City harper CityID: 2276492\n",
      "processing City huejuquilla el alto CityID: 4004616\n",
      "processing City bayan CityID: 2038421\n",
      "processing City odweyne CityID: 53372\n",
      "processing City grand forks CityID: 5059429\n",
      "processing City asau CityID: 686090\n",
      "processing City aasiaat CityID: 3424901\n",
      "processing City nueve de julio CityID: 3842881\n",
      "processing City goundam CityID: 2456917\n",
      "processing City poso CityID: 1630723\n",
      "processing City mingshui CityID: 1800498\n",
      "processing City saint-augustin CityID: 6137462\n",
      "processing City souris CityID: 6151456\n",
      "processing City mul CityID: 1262574\n",
      "processing City kushmurun CityID: 1519924\n",
      "processing City seydi CityID: 1218420\n"
     ]
    }
   ],
   "source": [
    "Temp = []\n",
    "MaxTemp = []\n",
    "Humidity = []\n",
    "Cloudiness = []\n",
    "WindSpeed = []\n",
    "Latitude = []\n",
    "Longitude = []\n",
    "CityID = []\n",
    "City = []\n",
    "LatLong = []\n",
    "CountryCode = []\n",
    "\n",
    "\n",
    "for city in cities:\n",
    "    response = requests.get(query_url + city).json()\n",
    "    if response['cod'] == 200:\n",
    "        Latitude.append(response['coord']['lat'])\n",
    "        Longitude.append(response['coord']['lon'])\n",
    "        Humidity.append(response['main']['humidity'])\n",
    "        Temp.append(response['main']['temp'])\n",
    "        Cloudiness.append(response['clouds']['all'])\n",
    "        WindSpeed.append(response['wind']['speed'])\n",
    "        CityID.append(response['id'])\n",
    "        City.append(response['name'])\n",
    "        MaxTemp.append(response['main']['temp_max'])\n",
    "        LatLong.append(response['coord'])\n",
    "        CountryCode.append(response['sys']['country'])\n",
    "        print(f\"processing City {city} CityID: {response['id']}\")\n",
    "        \n",
    "    "
   ]
  },
  {
   "cell_type": "code",
   "execution_count": 23,
   "metadata": {},
   "outputs": [],
   "source": [
    "### Convert Raw Data to DataFrame\n",
    "# Export the city data into a .csv.\n",
    "# Display the DataFrame\n",
    "city_df = pd.DataFrame({'CityID' : CityID,\n",
    "                    'City' : City,\n",
    "                    'Humidity' : Humidity,\n",
    "                    'Temp' : Temp,\n",
    "                    'Latitude' : Latitude,\n",
    "                    'Cloudiness' : Cloudiness,\n",
    "                    'WindSpeed' : WindSpeed,\n",
    "                    'MaxTemp' : MaxTemp,\n",
    "                    'Longitude' : Longitude,\n",
    "                     'LatLong' : LatLong,\n",
    "                     'CountryCode' : CountryCode\n",
    "                       })\n",
    "\n",
    "city_df\n",
    "\n",
    "city_df.to_csv('city_df.csv')"
   ]
  },
  {
   "cell_type": "markdown",
   "metadata": {},
   "source": [
    "### Plotting the Data\n",
    "* Use proper labeling of the plots using plot titles (including date of analysis) and axes labels.\n",
    "* Save the plotted figures as .pngs."
   ]
  },
  {
   "cell_type": "markdown",
   "metadata": {},
   "source": [
    "#### Latitude vs. Temperature Plot"
   ]
  },
  {
   "cell_type": "code",
   "execution_count": 24,
   "metadata": {
    "scrolled": true
   },
   "outputs": [
    {
     "data": {
      "image/png": "[encoded data removed]",
      "text/plain": [
       "<Figure size 432x288 with 1 Axes>"
      ]
     },
     "metadata": {
      "needs_background": "light"
     },
     "output_type": "display_data"
    }
   ],
   "source": [
    "x_values = city_df['Latitude']\n",
    "y_values = city_df['Temp']\n",
    "plt.scatter(x_values,y_values)\n",
    "plt.xlabel('Latitude')\n",
    "plt.ylabel('Temperature')\n",
    "plt.title('Latitude vs. Temp(f) Jan.18, 2020')\n",
    "plt.show()"
   ]
  },
  {
   "cell_type": "markdown",
   "metadata": {},
   "source": [
    "#### Latitude vs. Humidity Plot"
   ]
  },
  {
   "cell_type": "code",
   "execution_count": 25,
   "metadata": {},
   "outputs": [
    {
     "data": {
      "image/png": "[encoded data removed]",
      "text/plain": [
       "<Figure size 432x288 with 1 Axes>"
      ]
     },
     "metadata": {
      "needs_background": "light"
     },
     "output_type": "display_data"
    }
   ],
   "source": [
    "x_values = city_df['Latitude']\n",
    "y_values = city_df['Humidity']\n",
    "plt.scatter(x_values,y_values)\n",
    "plt.xlabel('Latitude')\n",
    "plt.ylabel('Humidity')\n",
    "plt.title('Latitude vs. Humidity(%) Jan.18, 2020')\n",
    "plt.show()"
   ]
  },
  {
   "cell_type": "markdown",
   "metadata": {},
   "source": [
    "#### Latitude vs. Cloudiness Plot"
   ]
  },
  {
   "cell_type": "code",
   "execution_count": 26,
   "metadata": {},
   "outputs": [
    {
     "data": {
      "image/png": "[encoded data removed]",
      "text/plain": [
       "<Figure size 432x288 with 1 Axes>"
      ]
     },
     "metadata": {
      "needs_background": "light"
     },
     "output_type": "display_data"
    }
   ],
   "source": [
    "x_values = city_df['Latitude']\n",
    "y_values = city_df['Cloudiness']\n",
    "plt.scatter(x_values,y_values)\n",
    "plt.xlabel('Latitude')\n",
    "plt.ylabel('Cloudiness')\n",
    "plt.title('Latitude vs. Cloudiness(%) Jan.18, 2020')\n",
    "plt.show()"
   ]
  },
  {
   "cell_type": "markdown",
   "metadata": {},
   "source": [
    "#### Latitude vs. Wind Speed Plot"
   ]
  },
  {
   "cell_type": "code",
   "execution_count": 27,
   "metadata": {},
   "outputs": [
    {
     "data": {
      "image/png": "[encoded data removed]",
      "text/plain": [
       "<Figure size 432x288 with 1 Axes>"
      ]
     },
     "metadata": {
      "needs_background": "light"
     },
     "output_type": "display_data"
    }
   ],
   "source": [
    "x_values = city_df['Latitude']\n",
    "y_values = city_df['WindSpeed']\n",
    "plt.scatter(x_values,y_values)\n",
    "plt.xlabel('Latitude')\n",
    "plt.ylabel('WindSpeed')\n",
    "plt.title('Latitude vs. WindSpeed(mph) Jan.18, 2020')\n",
    "plt.show()"
   ]
  },
  {
   "cell_type": "markdown",
   "metadata": {},
   "source": [
    "## Linear Regression"
   ]
  },
  {
   "cell_type": "code",
   "execution_count": 9,
   "metadata": {},
   "outputs": [],
   "source": [
    "# OPTIONAL: Create a function to create Linear Regression plots\n"
   ]
  },
  {
   "cell_type": "code",
   "execution_count": 28,
   "metadata": {},
   "outputs": [
    {
     "data": {
      "text/html": [
       "<div>\n",
       "<style scoped>\n",
       "    .dataframe tbody tr th:only-of-type {\n",
       "        vertical-align: middle;\n",
       "    }\n",
       "\n",
       "    .dataframe tbody tr th {\n",
       "        vertical-align: top;\n",
       "    }\n",
       "\n",
       "    .dataframe thead th {\n",
       "        text-align: right;\n",
       "    }\n",
       "</style>\n",
       "<table border=\"1\" class=\"dataframe\">\n",
       "  <thead>\n",
       "    <tr style=\"text-align: right;\">\n",
       "      <th></th>\n",
       "      <th>CityID</th>\n",
       "      <th>City</th>\n",
       "      <th>Humidity</th>\n",
       "      <th>Temp</th>\n",
       "      <th>Latitude</th>\n",
       "      <th>Cloudiness</th>\n",
       "      <th>WindSpeed</th>\n",
       "      <th>MaxTemp</th>\n",
       "      <th>Longitude</th>\n",
       "      <th>LatLong</th>\n",
       "      <th>CountryCode</th>\n",
       "    </tr>\n",
       "  </thead>\n",
       "  <tbody>\n",
       "    <tr>\n",
       "      <td>2</td>\n",
       "      <td>3430863</td>\n",
       "      <td>Mar del Plata</td>\n",
       "      <td>47</td>\n",
       "      <td>79.25</td>\n",
       "      <td>-38.00</td>\n",
       "      <td>0</td>\n",
       "      <td>9.17</td>\n",
       "      <td>80.01</td>\n",
       "      <td>-57.56</td>\n",
       "      <td>{'lon': -57.56, 'lat': -38}</td>\n",
       "      <td>AR</td>\n",
       "    </tr>\n",
       "    <tr>\n",
       "      <td>3</td>\n",
       "      <td>2206939</td>\n",
       "      <td>Bluff</td>\n",
       "      <td>92</td>\n",
       "      <td>60.01</td>\n",
       "      <td>-46.60</td>\n",
       "      <td>100</td>\n",
       "      <td>5.99</td>\n",
       "      <td>60.01</td>\n",
       "      <td>168.33</td>\n",
       "      <td>{'lon': 168.33, 'lat': -46.6}</td>\n",
       "      <td>NZ</td>\n",
       "    </tr>\n",
       "    <tr>\n",
       "      <td>5</td>\n",
       "      <td>3833367</td>\n",
       "      <td>Ushuaia</td>\n",
       "      <td>81</td>\n",
       "      <td>46.40</td>\n",
       "      <td>-54.80</td>\n",
       "      <td>75</td>\n",
       "      <td>29.97</td>\n",
       "      <td>46.40</td>\n",
       "      <td>-68.30</td>\n",
       "      <td>{'lon': -68.3, 'lat': -54.8}</td>\n",
       "      <td>AR</td>\n",
       "    </tr>\n",
       "    <tr>\n",
       "      <td>8</td>\n",
       "      <td>3366880</td>\n",
       "      <td>Hermanus</td>\n",
       "      <td>99</td>\n",
       "      <td>63.03</td>\n",
       "      <td>-34.42</td>\n",
       "      <td>100</td>\n",
       "      <td>11.01</td>\n",
       "      <td>66.00</td>\n",
       "      <td>19.23</td>\n",
       "      <td>{'lon': 19.23, 'lat': -34.42}</td>\n",
       "      <td>ZA</td>\n",
       "    </tr>\n",
       "    <tr>\n",
       "      <td>11</td>\n",
       "      <td>2166368</td>\n",
       "      <td>Forbes</td>\n",
       "      <td>69</td>\n",
       "      <td>72.00</td>\n",
       "      <td>-33.38</td>\n",
       "      <td>12</td>\n",
       "      <td>1.01</td>\n",
       "      <td>72.00</td>\n",
       "      <td>148.02</td>\n",
       "      <td>{'lon': 148.02, 'lat': -33.38}</td>\n",
       "      <td>AU</td>\n",
       "    </tr>\n",
       "  </tbody>\n",
       "</table>\n",
       "</div>"
      ],
      "text/plain": [
       "     CityID           City  Humidity   Temp  Latitude  Cloudiness  WindSpeed  \\\n",
       "2   3430863  Mar del Plata        47  79.25    -38.00           0       9.17   \n",
       "3   2206939          Bluff        92  60.01    -46.60         100       5.99   \n",
       "5   3833367        Ushuaia        81  46.40    -54.80          75      29.97   \n",
       "8   3366880       Hermanus        99  63.03    -34.42         100      11.01   \n",
       "11  2166368         Forbes        69  72.00    -33.38          12       1.01   \n",
       "\n",
       "    MaxTemp  Longitude                         LatLong CountryCode  \n",
       "2     80.01     -57.56     {'lon': -57.56, 'lat': -38}          AR  \n",
       "3     60.01     168.33   {'lon': 168.33, 'lat': -46.6}          NZ  \n",
       "5     46.40     -68.30    {'lon': -68.3, 'lat': -54.8}          AR  \n",
       "8     66.00      19.23   {'lon': 19.23, 'lat': -34.42}          ZA  \n",
       "11    72.00     148.02  {'lon': 148.02, 'lat': -33.38}          AU  "
      ]
     },
     "execution_count": 28,
     "metadata": {},
     "output_type": "execute_result"
    }
   ],
   "source": [
    "# Create Northern and Southern Hemisphere DataFrames\n",
    "NorthHemi_df = city_df[city_df['Latitude']>0]\n",
    "SouthHemi_df = city_df[city_df['Latitude']<0]\n",
    "\n",
    "NorthHemi_df.head()\n",
    "SouthHemi_df.head()"
   ]
  },
  {
   "cell_type": "markdown",
   "metadata": {},
   "source": [
    "####  Northern Hemisphere - Max Temp vs. Latitude Linear Regression"
   ]
  },
  {
   "cell_type": "code",
   "execution_count": 29,
   "metadata": {},
   "outputs": [
    {
     "name": "stdout",
     "output_type": "stream",
     "text": [
      "0       2.665978\n",
      "1       1.346605\n",
      "4      59.781623\n",
      "6      14.236877\n",
      "7      80.957555\n",
      "         ...    \n",
      "561    20.503897\n",
      "562    22.628087\n",
      "563    61.615551\n",
      "564    18.894263\n",
      "565    36.006527\n",
      "Name: Latitude, Length: 384, dtype: float64\n",
      "y = -1.32x +88.1\n",
      "The r-squared is: 0.7306250626276648\n"
     ]
    },
    {
     "data": {
      "image/png": "[encoded data removed]",
      "text/plain": [
       "<Figure size 432x288 with 1 Axes>"
      ]
     },
     "metadata": {
      "needs_background": "light"
     },
     "output_type": "display_data"
    }
   ],
   "source": [
    "x_values = NorthHemi_df['Latitude']\n",
    "y_values = NorthHemi_df['MaxTemp']\n",
    "\n",
    "(slope, intercept, rvalue, pvalue, stderr) = linregress(x_values, y_values)\n",
    "\n",
    "# Get regression values\n",
    "regress_values = x_values * slope + intercept\n",
    "print(regress_values)\n",
    "\n",
    "line_eq = \"y = \" + str(round(slope,2)) + \"x +\" + str(round(intercept,2))\n",
    "print(line_eq)\n",
    "\n",
    "plt.scatter(x_values,y_values)\n",
    "plt.plot(x_values,regress_values,\"r-\")\n",
    "\n",
    "# Label plot and annotate the line equation\n",
    "plt.xlabel('Latitude')\n",
    "plt.ylabel('Max Temperature')\n",
    "plt.annotate(line_eq,(-1,0),fontsize=15,color=\"red\")\n",
    "#plt.annotate lets you put text in graph\n",
    "\n",
    "# Print r square value\n",
    "print(f\"The r-squared is: {rvalue*rvalue}\")\n",
    "\n",
    "# Show plot\n",
    "plt.show()"
   ]
  },
  {
   "cell_type": "markdown",
   "metadata": {},
   "source": [
    "####  Southern Hemisphere - Max Temp vs. Latitude Linear Regression"
   ]
  },
  {
   "cell_type": "code",
   "execution_count": 30,
   "metadata": {},
   "outputs": [
    {
     "name": "stdout",
     "output_type": "stream",
     "text": [
      "2      69.055284\n",
      "3      66.270802\n",
      "5      63.615830\n",
      "8      70.214406\n",
      "11     70.551134\n",
      "         ...    \n",
      "532    70.350392\n",
      "534    75.281517\n",
      "543    69.994238\n",
      "557    69.884154\n",
      "559    80.905524\n",
      "Name: Latitude, Length: 182, dtype: float64\n",
      "y = 0.32x +81.36\n",
      "The r-squared is: 0.23881112990477363\n"
     ]
    },
    {
     "data": {
      "image/png": "[encoded data removed]",
      "text/plain": [
       "<Figure size 432x288 with 1 Axes>"
      ]
     },
     "metadata": {
      "needs_background": "light"
     },
     "output_type": "display_data"
    }
   ],
   "source": [
    "x_values = SouthHemi_df['Latitude']\n",
    "y_values = SouthHemi_df['MaxTemp']\n",
    "\n",
    "(slope, intercept, rvalue, pvalue, stderr) = linregress(x_values, y_values)\n",
    "\n",
    "# Get regression values\n",
    "regress_values = x_values * slope + intercept\n",
    "print(regress_values)\n",
    "\n",
    "line_eq = \"y = \" + str(round(slope,2)) + \"x +\" + str(round(intercept,2))\n",
    "print(line_eq)\n",
    "\n",
    "plt.scatter(x_values,y_values)\n",
    "plt.plot(x_values,regress_values,\"r-\")\n",
    "\n",
    "# Label plot and annotate the line equation\n",
    "plt.xlabel('Latitude')\n",
    "plt.ylabel('Max Temperature')\n",
    "plt.annotate(line_eq,(-30,50),fontsize=15,color=\"red\")\n",
    "#plt.annotate lets you put text in graph\n",
    "\n",
    "# Print r square value\n",
    "print(f\"The r-squared is: {rvalue*rvalue}\")\n",
    "\n",
    "# Show plot\n",
    "plt.show()"
   ]
  },
  {
   "cell_type": "markdown",
   "metadata": {},
   "source": [
    "####  Northern Hemisphere - Humidity (%) vs. Latitude Linear Regression"
   ]
  },
  {
   "cell_type": "code",
   "execution_count": 31,
   "metadata": {},
   "outputs": [
    {
     "name": "stdout",
     "output_type": "stream",
     "text": [
      "0      82.798349\n",
      "1      83.063266\n",
      "4      71.330091\n",
      "6      80.475027\n",
      "7      67.078173\n",
      "         ...    \n",
      "561    79.216671\n",
      "562    78.790155\n",
      "563    70.961857\n",
      "564    79.539870\n",
      "565    76.103896\n",
      "Name: Latitude, Length: 384, dtype: float64\n",
      "y = 0.26x +65.64\n",
      "The r-squared is: 0.0854877629283317\n"
     ]
    },
    {
     "data": {
      "image/png": "[encoded data removed]",
      "text/plain": [
       "<Figure size 432x288 with 1 Axes>"
      ]
     },
     "metadata": {
      "needs_background": "light"
     },
     "output_type": "display_data"
    }
   ],
   "source": [
    "x_values = NorthHemi_df['Latitude']\n",
    "y_values = NorthHemi_df['Humidity']\n",
    "\n",
    "(slope, intercept, rvalue, pvalue, stderr) = linregress(x_values, y_values)\n",
    "\n",
    "# Get regression values\n",
    "regress_values = x_values * slope + intercept\n",
    "print(regress_values)\n",
    "\n",
    "line_eq = \"y = \" + str(round(slope,2)) + \"x +\" + str(round(intercept,2))\n",
    "print(line_eq)\n",
    "\n",
    "plt.scatter(x_values,y_values)\n",
    "plt.plot(x_values,regress_values,\"r-\")\n",
    "\n",
    "# Label plot and annotate the line equation\n",
    "plt.xlabel('Latitude')\n",
    "plt.ylabel('Humidity (%)')\n",
    "plt.annotate(line_eq,(45,25),fontsize=15,color=\"red\")\n",
    "#plt.annotate lets you put text in graph\n",
    "\n",
    "# Print r square value\n",
    "print(f\"The r-squared is: {rvalue*rvalue}\")\n",
    "\n",
    "# Show plot\n",
    "plt.show()"
   ]
  },
  {
   "cell_type": "markdown",
   "metadata": {},
   "source": [
    "####  Southern Hemisphere - Humidity (%) vs. Latitude Linear Regression"
   ]
  },
  {
   "cell_type": "code",
   "execution_count": 32,
   "metadata": {},
   "outputs": [
    {
     "name": "stdout",
     "output_type": "stream",
     "text": [
      "2      69.496867\n",
      "3      66.410750\n",
      "5      63.468174\n",
      "8      70.781553\n",
      "11     71.154758\n",
      "         ...    \n",
      "532    70.932270\n",
      "534    76.397567\n",
      "543    70.537534\n",
      "557    70.415525\n",
      "559    82.630806\n",
      "Name: Latitude, Length: 182, dtype: float64\n",
      "y = 0.36x +83.13\n",
      "The r-squared is: 0.09146125927953475\n"
     ]
    },
    {
     "data": {
      "image/png": "[encoded data removed]",
      "text/plain": [
       "<Figure size 432x288 with 1 Axes>"
      ]
     },
     "metadata": {
      "needs_background": "light"
     },
     "output_type": "display_data"
    }
   ],
   "source": [
    "x_values = SouthHemi_df['Latitude']\n",
    "y_values = SouthHemi_df['Humidity']\n",
    "\n",
    "(slope, intercept, rvalue, pvalue, stderr) = linregress(x_values, y_values)\n",
    "\n",
    "# Get regression values\n",
    "regress_values = x_values * slope + intercept\n",
    "print(regress_values)\n",
    "\n",
    "line_eq = \"y = \" + str(round(slope,2)) + \"x +\" + str(round(intercept,2))\n",
    "print(line_eq)\n",
    "\n",
    "plt.scatter(x_values,y_values)\n",
    "plt.plot(x_values,regress_values,\"r-\")\n",
    "\n",
    "# Label plot and annotate the line equation\n",
    "plt.xlabel('Latitude')\n",
    "plt.ylabel('Humidity (%)')\n",
    "plt.annotate(line_eq,(-40,30),fontsize=15,color=\"red\")\n",
    "#plt.annotate lets you put text in graph\n",
    "\n",
    "# Print r square value\n",
    "print(f\"The r-squared is: {rvalue*rvalue}\")\n",
    "\n",
    "# Show plot\n",
    "plt.show()"
   ]
  },
  {
   "cell_type": "markdown",
   "metadata": {},
   "source": [
    "####  Northern Hemisphere - Cloudiness (%) vs. Latitude Linear Regression"
   ]
  },
  {
   "cell_type": "code",
   "execution_count": 33,
   "metadata": {},
   "outputs": [
    {
     "name": "stdout",
     "output_type": "stream",
     "text": [
      "0      82.798349\n",
      "1      83.063266\n",
      "4      71.330091\n",
      "6      80.475027\n",
      "7      67.078173\n",
      "         ...    \n",
      "561    79.216671\n",
      "562    78.790155\n",
      "563    70.961857\n",
      "564    79.539870\n",
      "565    76.103896\n",
      "Name: Latitude, Length: 384, dtype: float64\n",
      "y = 0.26x +65.64\n",
      "The r-squared is: 0.0854877629283317\n"
     ]
    },
    {
     "data": {
      "image/png": "[encoded data removed]",
      "text/plain": [
       "<Figure size 432x288 with 1 Axes>"
      ]
     },
     "metadata": {
      "needs_background": "light"
     },
     "output_type": "display_data"
    }
   ],
   "source": [
    "x_values = NorthHemi_df['Latitude']\n",
    "y_values = NorthHemi_df['Humidity']\n",
    "\n",
    "(slope, intercept, rvalue, pvalue, stderr) = linregress(x_values, y_values)\n",
    "\n",
    "# Get regression values\n",
    "regress_values = x_values * slope + intercept\n",
    "print(regress_values)\n",
    "\n",
    "line_eq = \"y = \" + str(round(slope,2)) + \"x +\" + str(round(intercept,2))\n",
    "print(line_eq)\n",
    "\n",
    "plt.scatter(x_values,y_values)\n",
    "plt.plot(x_values,regress_values,\"r-\")\n",
    "\n",
    "# Label plot and annotate the line equation\n",
    "plt.xlabel('Latitude')\n",
    "plt.ylabel('Cloudiness (%)')\n",
    "plt.annotate(line_eq,(30,20),fontsize=15,color=\"red\")\n",
    "#plt.annotate lets you put text in graph\n",
    "\n",
    "# Print r square value\n",
    "print(f\"The r-squared is: {rvalue*rvalue}\")\n",
    "\n",
    "# Show plot\n",
    "plt.show()"
   ]
  },
  {
   "cell_type": "markdown",
   "metadata": {},
   "source": [
    "####  Southern Hemisphere - Cloudiness (%) vs. Latitude Linear Regression"
   ]
  },
  {
   "cell_type": "code",
   "execution_count": 34,
   "metadata": {},
   "outputs": [
    {
     "name": "stdout",
     "output_type": "stream",
     "text": [
      "2      55.988731\n",
      "3      54.218414\n",
      "5      52.530438\n",
      "8      56.725677\n",
      "11     56.939762\n",
      "         ...    \n",
      "532    56.812134\n",
      "534    59.947242\n",
      "543    56.585699\n",
      "557    56.515709\n",
      "559    63.522871\n",
      "Name: Latitude, Length: 182, dtype: float64\n",
      "y = 0.21x +63.81\n",
      "The r-squared is: 0.0065361488334721085\n"
     ]
    },
    {
     "data": {
      "image/png": "[encoded data removed]",
      "text/plain": [
       "<Figure size 432x288 with 1 Axes>"
      ]
     },
     "metadata": {
      "needs_background": "light"
     },
     "output_type": "display_data"
    }
   ],
   "source": [
    "x_values = SouthHemi_df['Latitude']\n",
    "y_values = SouthHemi_df['Cloudiness']\n",
    "\n",
    "(slope, intercept, rvalue, pvalue, stderr) = linregress(x_values, y_values)\n",
    "\n",
    "# Get regression values\n",
    "regress_values = x_values * slope + intercept\n",
    "print(regress_values)\n",
    "\n",
    "line_eq = \"y = \" + str(round(slope,2)) + \"x +\" + str(round(intercept,2))\n",
    "print(line_eq)\n",
    "\n",
    "plt.scatter(x_values,y_values)\n",
    "plt.plot(x_values,regress_values,\"r-\")\n",
    "\n",
    "# Label plot and annotate the line equation\n",
    "plt.xlabel('Latitude')\n",
    "plt.ylabel('Cloudiness (%)')\n",
    "plt.annotate(line_eq,(-50,10),fontsize=15,color=\"red\")\n",
    "#plt.annotate lets you put text in graph\n",
    "\n",
    "# Print r square value\n",
    "print(f\"The r-squared is: {rvalue*rvalue}\")\n",
    "\n",
    "# Show plot\n",
    "plt.show()"
   ]
  },
  {
   "cell_type": "markdown",
   "metadata": {},
   "source": [
    "####  Northern Hemisphere - Wind Speed (mph) vs. Latitude Linear Regression"
   ]
  },
  {
   "cell_type": "code",
   "execution_count": 35,
   "metadata": {},
   "outputs": [
    {
     "name": "stdout",
     "output_type": "stream",
     "text": [
      "0      9.732484\n",
      "1      9.786743\n",
      "4      7.383614\n",
      "6      9.256633\n",
      "7      6.512758\n",
      "         ...   \n",
      "561    8.998903\n",
      "562    8.911546\n",
      "563    7.308194\n",
      "564    9.065099\n",
      "565    8.361361\n",
      "Name: Latitude, Length: 384, dtype: float64\n",
      "y = 0.05x +6.22\n",
      "The r-squared is: 0.03191327307646739\n"
     ]
    },
    {
     "data": {
      "image/png": "[encoded data removed]",
      "text/plain": [
       "<Figure size 432x288 with 1 Axes>"
      ]
     },
     "metadata": {
      "needs_background": "light"
     },
     "output_type": "display_data"
    }
   ],
   "source": [
    "x_values = NorthHemi_df['Latitude']\n",
    "y_values = NorthHemi_df['WindSpeed']\n",
    "\n",
    "(slope, intercept, rvalue, pvalue, stderr) = linregress(x_values, y_values)\n",
    "\n",
    "# Get regression values\n",
    "regress_values = x_values * slope + intercept\n",
    "print(regress_values)\n",
    "\n",
    "line_eq = \"y = \" + str(round(slope,2)) + \"x +\" + str(round(intercept,2))\n",
    "print(line_eq)\n",
    "\n",
    "plt.scatter(x_values,y_values)\n",
    "plt.plot(x_values,regress_values,\"r-\")\n",
    "\n",
    "# Label plot and annotate the line equation\n",
    "plt.xlabel('Latitude')\n",
    "plt.ylabel('WindSpeed (mph)')\n",
    "plt.annotate(line_eq,(50,35),fontsize=15,color=\"red\")\n",
    "#plt.annotate lets you put text in graph\n",
    "\n",
    "# Print r square value\n",
    "print(f\"The r-squared is: {rvalue*rvalue}\")\n",
    "\n",
    "# Show plot\n",
    "plt.show()"
   ]
  },
  {
   "cell_type": "markdown",
   "metadata": {},
   "source": [
    "####  Southern Hemisphere - Wind Speed (mph) vs. Latitude Linear Regression"
   ]
  },
  {
   "cell_type": "code",
   "execution_count": 36,
   "metadata": {},
   "outputs": [
    {
     "name": "stdout",
     "output_type": "stream",
     "text": [
      "2      12.853011\n",
      "3      14.455222\n",
      "5      15.982913\n",
      "8      12.186043\n",
      "11     11.992287\n",
      "         ...    \n",
      "532    12.107796\n",
      "534     9.270390\n",
      "543    12.312730\n",
      "557    12.376073\n",
      "559     6.034295\n",
      "Name: Latitude, Length: 182, dtype: float64\n",
      "y = -0.19x +5.77\n",
      "The r-squared is: 0.15476943052357386\n"
     ]
    },
    {
     "data": {
      "image/png": "[encoded data removed]",
      "text/plain": [
       "<Figure size 432x288 with 1 Axes>"
      ]
     },
     "metadata": {
      "needs_background": "light"
     },
     "output_type": "display_data"
    }
   ],
   "source": [
    "x_values = SouthHemi_df['Latitude']\n",
    "y_values = SouthHemi_df['WindSpeed']\n",
    "\n",
    "(slope, intercept, rvalue, pvalue, stderr) = linregress(x_values, y_values)\n",
    "\n",
    "# Get regression values\n",
    "regress_values = x_values * slope + intercept\n",
    "print(regress_values)\n",
    "\n",
    "line_eq = \"y = \" + str(round(slope,2)) + \"x +\" + str(round(intercept,2))\n",
    "print(line_eq)\n",
    "\n",
    "plt.scatter(x_values,y_values)\n",
    "plt.plot(x_values,regress_values,\"r-\")\n",
    "\n",
    "# Label plot and annotate the line equation\n",
    "plt.xlabel('Latitude')\n",
    "plt.ylabel('WindSpeed (mph)')\n",
    "plt.annotate(line_eq,(-30,25),fontsize=15,color=\"red\")\n",
    "#plt.annotate lets you put text in graph\n",
    "\n",
    "# Print r square value\n",
    "print(f\"The r-squared is: {rvalue*rvalue}\")\n",
    "\n",
    "# Show plot\n",
    "plt.show()"
   ]
  },
  {
   "cell_type": "code",
   "execution_count": null,
   "metadata": {},
   "outputs": [],
   "source": []
  }
 ],
 "metadata": {
  "anaconda-cloud": {},
  "kernel_info": {
   "name": "python3"
  },
  "kernelspec": {
   "display_name": "Python 3",
   "language": "python",
   "name": "python3"
  },
  "language_info": {
   "codemirror_mode": {
    "name": "ipython",
    "version": 3
   },
   "file_extension": ".py",
   "mimetype": "text/x-python",
   "name": "python",
   "nbconvert_exporter": "python",
   "pygments_lexer": "ipython3",
   "version": "3.7.4"
  },
  "latex_envs": {
   "LaTeX_envs_menu_present": true,
   "autoclose": false,
   "autocomplete": true,
   "bibliofile": "biblio.bib",
   "cite_by": "apalike",
   "current_citInitial": 1,
   "eqLabelWithNumbers": true,
   "eqNumInitial": 1,
   "hotkeys": {
    "equation": "Ctrl-E",
    "itemize": "Ctrl-I"
   },
   "labels_anchors": false,
   "latex_user_defs": false,
   "report_style_numbering": false,
   "user_envs_cfg": false
  },
  "nteract": {
   "version": "0.12.3"
  }
 },
 "nbformat": 4,
 "nbformat_minor": 2
}
